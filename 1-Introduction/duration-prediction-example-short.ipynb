{
 "cells": [
  {
   "cell_type": "code",
   "execution_count": 4,
   "id": "2fb61793",
   "metadata": {},
   "outputs": [],
   "source": [
    "import os\n",
    "import pandas as pd\n",
    "import pickle\n",
    "import seaborn as sns\n",
    "import matplotlib.pyplot as plt\n",
    "sns.set_style(\"darkgrid\")"
   ]
  },
  {
   "cell_type": "code",
   "execution_count": 5,
   "id": "5cb849d4",
   "metadata": {},
   "outputs": [],
   "source": [
    "from sklearn.feature_extraction import DictVectorizer\n",
    "from sklearn.linear_model import LinearRegression\n",
    "from sklearn.linear_model import Lasso\n",
    "from sklearn.linear_model import Ridge\n",
    "\n",
    "from sklearn.metrics import mean_squared_error"
   ]
  },
  {
   "cell_type": "code",
   "execution_count": 6,
   "id": "dcabbaa5",
   "metadata": {},
   "outputs": [
    {
     "data": {
      "text/plain": [
       "['green_tripdata_2021-02.parquet', 'green_tripdata_2021-01.parquet']"
      ]
     },
     "execution_count": 6,
     "metadata": {},
     "output_type": "execute_result"
    }
   ],
   "source": [
    "os.listdir(\"data\")"
   ]
  },
  {
   "cell_type": "code",
   "execution_count": 14,
   "id": "d79aa123",
   "metadata": {},
   "outputs": [
    {
     "name": "stdout",
     "output_type": "stream",
     "text": [
      "Train:  (73908, 21)\n",
      "Val:  (61921, 21)\n"
     ]
    }
   ],
   "source": [
    "def read_dataframe(filename):\n",
    "    df = pd.read_parquet(filename)\n",
    "\n",
    "    df[\"lpep_dropoff_datetime\"] = pd.to_datetime(df[\"lpep_dropoff_datetime\"])\n",
    "    df[\"lpep_pickup_datetime\"] = pd.to_datetime(df[\"lpep_pickup_datetime\"])\n",
    "\n",
    "    # create duration-column\n",
    "    df[\"duration\"] = df[\"lpep_dropoff_datetime\"] - df[\"lpep_pickup_datetime\"]\n",
    "    df[\"duration\"] = df[\"duration\"].dt.total_seconds() / 60\n",
    "\n",
    "    # remove outliers\n",
    "    df = df[(df[\"duration\"] >= 1) & (df[\"duration\"] <= 60)].copy()\n",
    "\n",
    "    # convert categorical features to strings (to get 1-hot encoding)\n",
    "    categorical = [\"PULocationID\", \"DOLocationID\"]\n",
    "    df[categorical] = df[categorical].astype(str)\n",
    "\n",
    "    return df\n",
    "\n",
    "train_file = \"data/green_tripdata_2021-01.parquet\"\n",
    "val_file = \"data/green_tripdata_2021-02.parquet\"\n",
    "\n",
    "df_train = read_dataframe(train_file)\n",
    "print(\"Train: \", df_train.shape)\n",
    "\n",
    "df_val = read_dataframe(val_file)\n",
    "print(\"Val: \", df_val.shape)"
   ]
  },
  {
   "attachments": {},
   "cell_type": "markdown",
   "id": "b953d72b",
   "metadata": {},
   "source": [
    "**Create new features**"
   ]
  },
  {
   "cell_type": "code",
   "execution_count": 15,
   "id": "66b7302a",
   "metadata": {},
   "outputs": [],
   "source": [
    "df_train[\"PU_DO\"] = df_train[\"PULocationID\"] + \"_\" + df_train[\"DOLocationID\"]\n",
    "df_val[\"PU_DO\"] = df_val[\"PULocationID\"] + \"_\" + df_val[\"DOLocationID\"]\n"
   ]
  },
  {
   "cell_type": "code",
   "execution_count": 18,
   "id": "b00a578f",
   "metadata": {},
   "outputs": [],
   "source": [
    "categorical = [\"PU_DO\"]\n",
    "numerical = [\"trip_distance\"]\n",
    "\n",
    "dv = DictVectorizer()\n",
    "\n",
    "train_dicts = df_train[categorical + numerical].to_dict(orient=\"records\")\n",
    "X_train = dv.fit_transform(train_dicts)\n",
    "\n",
    "val_dicts = df_val[categorical + numerical].to_dict(orient=\"records\")\n",
    "X_val = dv.transform(val_dicts)"
   ]
  },
  {
   "cell_type": "code",
   "execution_count": 19,
   "id": "67fe7900",
   "metadata": {},
   "outputs": [],
   "source": [
    "target = \"duration\"\n",
    "y_train = df_train[target].values\n",
    "y_val = df_val[target].values"
   ]
  },
  {
   "attachments": {},
   "cell_type": "markdown",
   "id": "3ffdf737",
   "metadata": {},
   "source": [
    "**Linear Regression**"
   ]
  },
  {
   "cell_type": "code",
   "execution_count": 30,
   "id": "9211bb90",
   "metadata": {},
   "outputs": [
    {
     "data": {
      "text/plain": [
       "7.758715213828063"
      ]
     },
     "execution_count": 30,
     "metadata": {},
     "output_type": "execute_result"
    }
   ],
   "source": [
    "lr = LinearRegression()\n",
    "lr.fit(X_train, y_train)\n",
    "\n",
    "y_pred = lr.predict(X_val)\n",
    "\n",
    "mean_squared_error(y_val, y_pred, squared=False)"
   ]
  },
  {
   "attachments": {},
   "cell_type": "markdown",
   "id": "c770a5d2",
   "metadata": {},
   "source": [
    "![Model Registry](imgs/model_registry.png)\n",
    "Saving the models after training into the model registry."
   ]
  },
  {
   "cell_type": "code",
   "execution_count": 31,
   "id": "487b3094",
   "metadata": {},
   "outputs": [],
   "source": [
    "with open(\"./models/lin_reg.bin\", \"wb\") as f_out:\n",
    "    pickle.dump((dv, lr), f_out)"
   ]
  },
  {
   "attachments": {},
   "cell_type": "markdown",
   "id": "7ab702cb",
   "metadata": {},
   "source": [
    "**Lasso Regression**"
   ]
  },
  {
   "attachments": {},
   "cell_type": "markdown",
   "id": "1cdd9df8",
   "metadata": {},
   "source": [
    "Loggin results from training should be saved (**`Logged`**) to track the results. This allows comparison of results."
   ]
  },
  {
   "attachments": {},
   "cell_type": "markdown",
   "id": "30e86532",
   "metadata": {},
   "source": [
    "![Experiment Tracking](imgs/experiment_tracker.png)"
   ]
  },
  {
   "cell_type": "code",
   "execution_count": 32,
   "id": "1befa9cd",
   "metadata": {},
   "outputs": [
    {
     "name": "stdout",
     "output_type": "stream",
     "text": [
      "Lasso Regression\n",
      "alpha = 1.0000 | RMSE = 12.21\n",
      "alpha = 0.1000 | RMSE = 12.14\n",
      "alpha = 0.0100 | RMSE = 11.17\n",
      "alpha = 0.0010 | RMSE = 9.23\n"
     ]
    }
   ],
   "source": [
    "N_lasso = 4\n",
    "lasso_res = []\n",
    "print(\"Lasso Regression\")\n",
    "for n in range(N_lasso):\n",
    "    alpha = 0.1**n\n",
    "    lr = Lasso(alpha)\n",
    "    lr.fit(X_train, y_train)\n",
    "    y_pred = lr.predict(X_val)\n",
    "    rmse = mean_squared_error(y_val, y_pred, squared=False)\n",
    "    lasso_res.append((alpha, rmse, lr))\n",
    "    print(f\"alpha = {alpha:.4f} | RMSE = {rmse:.2f}\")"
   ]
  },
  {
   "cell_type": "code",
   "execution_count": 33,
   "id": "00fe5a2a",
   "metadata": {},
   "outputs": [
    {
     "name": "stdout",
     "output_type": "stream",
     "text": [
      "Ridge Regression\n",
      "alpha = 1.0000 | RMSE = 7.70\n",
      "alpha = 0.1000 | RMSE = 7.53\n",
      "alpha = 0.0100 | RMSE = 7.51\n",
      "alpha = 0.0010 | RMSE = 7.52\n"
     ]
    }
   ],
   "source": [
    "N_ridge = 4\n",
    "ridge_res = []\n",
    "print(\"Ridge Regression\")\n",
    "for n in range(N_ridge):\n",
    "    alpha = 0.1**n\n",
    "    lr = Ridge(alpha)\n",
    "    lr.fit(X_train, y_train)\n",
    "    y_pred = lr.predict(X_val)\n",
    "    rmse = mean_squared_error(y_val, y_pred, squared=False)\n",
    "    ridge_res.append((alpha, rmse, lr))\n",
    "    print(f\"alpha = {alpha:.4f} | RMSE = {rmse:.2f}\")\n"
   ]
  },
  {
   "attachments": {},
   "cell_type": "markdown",
   "id": "4082bc67",
   "metadata": {},
   "source": [
    "## Tracking the Training and the results"
   ]
  },
  {
   "attachments": {},
   "cell_type": "markdown",
   "id": "8def8213",
   "metadata": {},
   "source": [
    "When traning a model, the results of each run / experiment is logged with the experiment-tracker. Alongside with this the models are saved in the model registry. Processes that are utilized for this usually are not done inside a jupyter notebook. For this so called \"Machine Learning Pipelines\" are used. The training should be done automated and the human is excluded from the trainin process as much as possible. This practice is borrowed from the DevOps process. Each process of the ML Pipeline has its own code:"
   ]
  },
  {
   "attachments": {},
   "cell_type": "markdown",
   "id": "43cd66bb",
   "metadata": {},
   "source": [
    "![ML-Pipeline](imgs/ML_Pipeline.drawio.png)"
   ]
  },
  {
   "attachments": {},
   "cell_type": "markdown",
   "id": "d68ab810",
   "metadata": {},
   "source": []
  }
 ],
 "metadata": {
  "kernelspec": {
   "display_name": "mlops-env",
   "language": "python",
   "name": "python3"
  },
  "language_info": {
   "codemirror_mode": {
    "name": "ipython",
    "version": 3
   },
   "file_extension": ".py",
   "mimetype": "text/x-python",
   "name": "python",
   "nbconvert_exporter": "python",
   "pygments_lexer": "ipython3",
   "version": "3.10.9"
  }
 },
 "nbformat": 4,
 "nbformat_minor": 5
}
