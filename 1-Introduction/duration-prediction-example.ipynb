{
 "cells": [
  {
   "attachments": {},
   "cell_type": "markdown",
   "id": "935dc3fd",
   "metadata": {},
   "source": [
    "**Check Python Version**"
   ]
  },
  {
   "cell_type": "code",
   "execution_count": 145,
   "id": "cb1cb5ec",
   "metadata": {
    "scrolled": true
   },
   "outputs": [
    {
     "name": "stdout",
     "output_type": "stream",
     "text": [
      "Python 3.10.9\n"
     ]
    }
   ],
   "source": [
    "!python -V"
   ]
  },
  {
   "attachments": {},
   "cell_type": "markdown",
   "id": "37e30621",
   "metadata": {},
   "source": [
    "**Imports**"
   ]
  },
  {
   "cell_type": "code",
   "execution_count": 146,
   "id": "2e448997",
   "metadata": {},
   "outputs": [],
   "source": [
    "import os\n",
    "import pandas as pd\n",
    "import numpy as np\n",
    "import matplotlib.pyplot as plt\n",
    "import seaborn as sns\n",
    "sns.set_style(\"darkgrid\")\n",
    "\n",
    "# Scikit-Learn imports\n",
    "from sklearn.feature_extraction import DictVectorizer\n",
    "from sklearn.linear_model import LinearRegression, Lasso, Ridge\n",
    "from sklearn.metrics import mean_squared_error"
   ]
  },
  {
   "attachments": {},
   "cell_type": "markdown",
   "id": "f8725e88",
   "metadata": {},
   "source": [
    "**Get the dataset**"
   ]
  },
  {
   "attachments": {},
   "cell_type": "markdown",
   "id": "945c8b87",
   "metadata": {},
   "source": [
    "Get the data [here](https://www.nyc.gov/site/tlc/about/tlc-trip-record-data.page)."
   ]
  },
  {
   "cell_type": "code",
   "execution_count": 147,
   "id": "d3db1e57",
   "metadata": {},
   "outputs": [
    {
     "name": "stdout",
     "output_type": "stream",
     "text": [
      "['green_tripdata_2021-02.parquet', 'green_tripdata_2021-01.parquet']\n"
     ]
    }
   ],
   "source": [
    "!wget -qq https://d37ci6vzurychx.cloudfront.net/trip-data/green_tripdata_2021-01.parquet\n",
    "!mv green_tripdata_2021-01.parquet data\n",
    "print(os.listdir(\"data\"))"
   ]
  },
  {
   "cell_type": "code",
   "execution_count": 148,
   "id": "0380ff12",
   "metadata": {},
   "outputs": [
    {
     "name": "stdout",
     "output_type": "stream",
     "text": [
      "(76518, 20)\n"
     ]
    }
   ],
   "source": [
    "df = pd.read_parquet(\"data/green_tripdata_2021-01.parquet\")\n",
    "print(df.shape)"
   ]
  },
  {
   "cell_type": "code",
   "execution_count": 149,
   "id": "86decd15",
   "metadata": {},
   "outputs": [
    {
     "data": {
      "text/html": [
       "<div>\n",
       "<style scoped>\n",
       "    .dataframe tbody tr th:only-of-type {\n",
       "        vertical-align: middle;\n",
       "    }\n",
       "\n",
       "    .dataframe tbody tr th {\n",
       "        vertical-align: top;\n",
       "    }\n",
       "\n",
       "    .dataframe thead th {\n",
       "        text-align: right;\n",
       "    }\n",
       "</style>\n",
       "<table border=\"1\" class=\"dataframe\">\n",
       "  <thead>\n",
       "    <tr style=\"text-align: right;\">\n",
       "      <th></th>\n",
       "      <th>VendorID</th>\n",
       "      <th>lpep_pickup_datetime</th>\n",
       "      <th>lpep_dropoff_datetime</th>\n",
       "      <th>store_and_fwd_flag</th>\n",
       "      <th>RatecodeID</th>\n",
       "      <th>PULocationID</th>\n",
       "      <th>DOLocationID</th>\n",
       "      <th>passenger_count</th>\n",
       "      <th>trip_distance</th>\n",
       "      <th>fare_amount</th>\n",
       "      <th>extra</th>\n",
       "      <th>mta_tax</th>\n",
       "      <th>tip_amount</th>\n",
       "      <th>tolls_amount</th>\n",
       "      <th>ehail_fee</th>\n",
       "      <th>improvement_surcharge</th>\n",
       "      <th>total_amount</th>\n",
       "      <th>payment_type</th>\n",
       "      <th>trip_type</th>\n",
       "      <th>congestion_surcharge</th>\n",
       "    </tr>\n",
       "  </thead>\n",
       "  <tbody>\n",
       "    <tr>\n",
       "      <th>0</th>\n",
       "      <td>2</td>\n",
       "      <td>2021-01-01 00:15:56</td>\n",
       "      <td>2021-01-01 00:19:52</td>\n",
       "      <td>N</td>\n",
       "      <td>1.0</td>\n",
       "      <td>43</td>\n",
       "      <td>151</td>\n",
       "      <td>1.0</td>\n",
       "      <td>1.01</td>\n",
       "      <td>5.5</td>\n",
       "      <td>0.5</td>\n",
       "      <td>0.5</td>\n",
       "      <td>0.00</td>\n",
       "      <td>0.0</td>\n",
       "      <td>None</td>\n",
       "      <td>0.3</td>\n",
       "      <td>6.80</td>\n",
       "      <td>2.0</td>\n",
       "      <td>1.0</td>\n",
       "      <td>0.00</td>\n",
       "    </tr>\n",
       "    <tr>\n",
       "      <th>1</th>\n",
       "      <td>2</td>\n",
       "      <td>2021-01-01 00:25:59</td>\n",
       "      <td>2021-01-01 00:34:44</td>\n",
       "      <td>N</td>\n",
       "      <td>1.0</td>\n",
       "      <td>166</td>\n",
       "      <td>239</td>\n",
       "      <td>1.0</td>\n",
       "      <td>2.53</td>\n",
       "      <td>10.0</td>\n",
       "      <td>0.5</td>\n",
       "      <td>0.5</td>\n",
       "      <td>2.81</td>\n",
       "      <td>0.0</td>\n",
       "      <td>None</td>\n",
       "      <td>0.3</td>\n",
       "      <td>16.86</td>\n",
       "      <td>1.0</td>\n",
       "      <td>1.0</td>\n",
       "      <td>2.75</td>\n",
       "    </tr>\n",
       "    <tr>\n",
       "      <th>2</th>\n",
       "      <td>2</td>\n",
       "      <td>2021-01-01 00:45:57</td>\n",
       "      <td>2021-01-01 00:51:55</td>\n",
       "      <td>N</td>\n",
       "      <td>1.0</td>\n",
       "      <td>41</td>\n",
       "      <td>42</td>\n",
       "      <td>1.0</td>\n",
       "      <td>1.12</td>\n",
       "      <td>6.0</td>\n",
       "      <td>0.5</td>\n",
       "      <td>0.5</td>\n",
       "      <td>1.00</td>\n",
       "      <td>0.0</td>\n",
       "      <td>None</td>\n",
       "      <td>0.3</td>\n",
       "      <td>8.30</td>\n",
       "      <td>1.0</td>\n",
       "      <td>1.0</td>\n",
       "      <td>0.00</td>\n",
       "    </tr>\n",
       "    <tr>\n",
       "      <th>3</th>\n",
       "      <td>2</td>\n",
       "      <td>2020-12-31 23:57:51</td>\n",
       "      <td>2021-01-01 00:04:56</td>\n",
       "      <td>N</td>\n",
       "      <td>1.0</td>\n",
       "      <td>168</td>\n",
       "      <td>75</td>\n",
       "      <td>1.0</td>\n",
       "      <td>1.99</td>\n",
       "      <td>8.0</td>\n",
       "      <td>0.5</td>\n",
       "      <td>0.5</td>\n",
       "      <td>0.00</td>\n",
       "      <td>0.0</td>\n",
       "      <td>None</td>\n",
       "      <td>0.3</td>\n",
       "      <td>9.30</td>\n",
       "      <td>2.0</td>\n",
       "      <td>1.0</td>\n",
       "      <td>0.00</td>\n",
       "    </tr>\n",
       "    <tr>\n",
       "      <th>4</th>\n",
       "      <td>2</td>\n",
       "      <td>2021-01-01 00:16:36</td>\n",
       "      <td>2021-01-01 00:16:40</td>\n",
       "      <td>N</td>\n",
       "      <td>2.0</td>\n",
       "      <td>265</td>\n",
       "      <td>265</td>\n",
       "      <td>3.0</td>\n",
       "      <td>0.00</td>\n",
       "      <td>-52.0</td>\n",
       "      <td>0.0</td>\n",
       "      <td>-0.5</td>\n",
       "      <td>0.00</td>\n",
       "      <td>0.0</td>\n",
       "      <td>None</td>\n",
       "      <td>-0.3</td>\n",
       "      <td>-52.80</td>\n",
       "      <td>3.0</td>\n",
       "      <td>1.0</td>\n",
       "      <td>0.00</td>\n",
       "    </tr>\n",
       "  </tbody>\n",
       "</table>\n",
       "</div>"
      ],
      "text/plain": [
       "   VendorID lpep_pickup_datetime lpep_dropoff_datetime store_and_fwd_flag   \n",
       "0         2  2021-01-01 00:15:56   2021-01-01 00:19:52                  N  \\\n",
       "1         2  2021-01-01 00:25:59   2021-01-01 00:34:44                  N   \n",
       "2         2  2021-01-01 00:45:57   2021-01-01 00:51:55                  N   \n",
       "3         2  2020-12-31 23:57:51   2021-01-01 00:04:56                  N   \n",
       "4         2  2021-01-01 00:16:36   2021-01-01 00:16:40                  N   \n",
       "\n",
       "   RatecodeID  PULocationID  DOLocationID  passenger_count  trip_distance   \n",
       "0         1.0            43           151              1.0           1.01  \\\n",
       "1         1.0           166           239              1.0           2.53   \n",
       "2         1.0            41            42              1.0           1.12   \n",
       "3         1.0           168            75              1.0           1.99   \n",
       "4         2.0           265           265              3.0           0.00   \n",
       "\n",
       "   fare_amount  extra  mta_tax  tip_amount  tolls_amount ehail_fee   \n",
       "0          5.5    0.5      0.5        0.00           0.0      None  \\\n",
       "1         10.0    0.5      0.5        2.81           0.0      None   \n",
       "2          6.0    0.5      0.5        1.00           0.0      None   \n",
       "3          8.0    0.5      0.5        0.00           0.0      None   \n",
       "4        -52.0    0.0     -0.5        0.00           0.0      None   \n",
       "\n",
       "   improvement_surcharge  total_amount  payment_type  trip_type   \n",
       "0                    0.3          6.80           2.0        1.0  \\\n",
       "1                    0.3         16.86           1.0        1.0   \n",
       "2                    0.3          8.30           1.0        1.0   \n",
       "3                    0.3          9.30           2.0        1.0   \n",
       "4                   -0.3        -52.80           3.0        1.0   \n",
       "\n",
       "   congestion_surcharge  \n",
       "0                  0.00  \n",
       "1                  2.75  \n",
       "2                  0.00  \n",
       "3                  0.00  \n",
       "4                  0.00  "
      ]
     },
     "execution_count": 149,
     "metadata": {},
     "output_type": "execute_result"
    }
   ],
   "source": [
    "df.head()"
   ]
  },
  {
   "cell_type": "code",
   "execution_count": 150,
   "id": "fa8de8ca",
   "metadata": {},
   "outputs": [
    {
     "name": "stdout",
     "output_type": "stream",
     "text": [
      "<class 'pandas.core.frame.DataFrame'>\n",
      "RangeIndex: 76518 entries, 0 to 76517\n",
      "Data columns (total 20 columns):\n",
      " #   Column                 Non-Null Count  Dtype         \n",
      "---  ------                 --------------  -----         \n",
      " 0   VendorID               76518 non-null  int64         \n",
      " 1   lpep_pickup_datetime   76518 non-null  datetime64[ns]\n",
      " 2   lpep_dropoff_datetime  76518 non-null  datetime64[ns]\n",
      " 3   store_and_fwd_flag     40471 non-null  object        \n",
      " 4   RatecodeID             40471 non-null  float64       \n",
      " 5   PULocationID           76518 non-null  int64         \n",
      " 6   DOLocationID           76518 non-null  int64         \n",
      " 7   passenger_count        40471 non-null  float64       \n",
      " 8   trip_distance          76518 non-null  float64       \n",
      " 9   fare_amount            76518 non-null  float64       \n",
      " 10  extra                  76518 non-null  float64       \n",
      " 11  mta_tax                76518 non-null  float64       \n",
      " 12  tip_amount             76518 non-null  float64       \n",
      " 13  tolls_amount           76518 non-null  float64       \n",
      " 14  ehail_fee              0 non-null      object        \n",
      " 15  improvement_surcharge  76518 non-null  float64       \n",
      " 16  total_amount           76518 non-null  float64       \n",
      " 17  payment_type           40471 non-null  float64       \n",
      " 18  trip_type              40471 non-null  float64       \n",
      " 19  congestion_surcharge   40471 non-null  float64       \n",
      "dtypes: datetime64[ns](2), float64(13), int64(3), object(2)\n",
      "memory usage: 11.7+ MB\n"
     ]
    }
   ],
   "source": [
    "df.info()"
   ]
  },
  {
   "attachments": {},
   "cell_type": "markdown",
   "id": "8d801a69",
   "metadata": {},
   "source": [
    "**Relevant columns**"
   ]
  },
  {
   "attachments": {},
   "cell_type": "markdown",
   "id": "93f9aef2",
   "metadata": {},
   "source": [
    "- `PULocationID`: Pickup location ID\n",
    "- `DOLocationID`: Dropoff location ID\n",
    "- `trip_distance`: Distance that was driven between pickup and dropoff location"
   ]
  },
  {
   "attachments": {},
   "cell_type": "markdown",
   "id": "5f6edc5d",
   "metadata": {},
   "source": [
    "**Parse `datetime64` strings correctly**"
   ]
  },
  {
   "cell_type": "code",
   "execution_count": 151,
   "id": "bfbe7bca",
   "metadata": {},
   "outputs": [],
   "source": [
    "df[\"lpep_pickup_datetime\"] = pd.to_datetime(df[\"lpep_pickup_datetime\"])\n",
    "df[\"lpep_dropoff_datetime\"] = pd.to_datetime(df[\"lpep_dropoff_datetime\"])\n",
    "\n",
    "df[\"duration\"] = df[\"lpep_dropoff_datetime\"] - df[\"lpep_pickup_datetime\"]\n",
    "df[\"duration\"] = df[\"duration\"].apply(lambda td: td.total_seconds() / 60)"
   ]
  },
  {
   "cell_type": "code",
   "execution_count": 152,
   "id": "3e1b696c",
   "metadata": {},
   "outputs": [
    {
     "name": "stdout",
     "output_type": "stream",
     "text": [
      "0    3.933333\n",
      "1    8.750000\n",
      "2    5.966667\n",
      "Name: duration, dtype: float64\n"
     ]
    }
   ],
   "source": [
    "print(df[\"duration\"].head(3))"
   ]
  },
  {
   "cell_type": "code",
   "execution_count": 153,
   "id": "925d7a09",
   "metadata": {},
   "outputs": [
    {
     "name": "stderr",
     "output_type": "stream",
     "text": [
      "/tmp/ipykernel_32247/3052781241.py:1: UserWarning: \n",
      "\n",
      "`distplot` is a deprecated function and will be removed in seaborn v0.14.0.\n",
      "\n",
      "Please adapt your code to use either `displot` (a figure-level function with\n",
      "similar flexibility) or `histplot` (an axes-level function for histograms).\n",
      "\n",
      "For a guide to updating your code to use the new functions, please see\n",
      "https://gist.github.com/mwaskom/de44147ed2974457ad6372750bbe5751\n",
      "\n",
      "  sns.distplot(df[\"duration\"]);\n"
     ]
    },
    {
     "data": {
      "image/png": "[encoded data removed]",
      "text/plain": [
       "<Figure size 640x480 with 1 Axes>"
      ]
     },
     "metadata": {},
     "output_type": "display_data"
    }
   ],
   "source": [
    "sns.distplot(df[\"duration\"]);"
   ]
  },
  {
   "attachments": {},
   "cell_type": "markdown",
   "id": "42e08e2f",
   "metadata": {},
   "source": [
    "**The distribution has a very long tail**"
   ]
  },
  {
   "cell_type": "code",
   "execution_count": 154,
   "id": "c4d97979",
   "metadata": {},
   "outputs": [
    {
     "data": {
      "text/plain": [
       "count    76518.000000\n",
       "mean        19.927896\n",
       "std         59.338594\n",
       "min          0.000000\n",
       "25%          8.000000\n",
       "50%         13.883333\n",
       "75%         23.000000\n",
       "max       1439.600000\n",
       "Name: duration, dtype: float64"
      ]
     },
     "execution_count": 154,
     "metadata": {},
     "output_type": "execute_result"
    }
   ],
   "source": [
    "df[\"duration\"].describe()"
   ]
  },
  {
   "attachments": {},
   "cell_type": "markdown",
   "id": "c404fce7",
   "metadata": {},
   "source": [
    "There are very long and very short trips."
   ]
  },
  {
   "cell_type": "code",
   "execution_count": 155,
   "id": "424d5ea9",
   "metadata": {},
   "outputs": [
    {
     "data": {
      "text/plain": [
       "count    76518.000000\n",
       "mean        19.927896\n",
       "std         59.338594\n",
       "min          0.000000\n",
       "50%         13.883333\n",
       "95%         44.000000\n",
       "98%         56.000000\n",
       "99%         67.158167\n",
       "max       1439.600000\n",
       "Name: duration, dtype: float64"
      ]
     },
     "execution_count": 155,
     "metadata": {},
     "output_type": "execute_result"
    }
   ],
   "source": [
    "df[\"duration\"].describe(percentiles=[0.95, 0.98, 0.99])"
   ]
  },
  {
   "attachments": {},
   "cell_type": "markdown",
   "id": "5af4fa79",
   "metadata": {},
   "source": [
    "$98\\%$ of the data lies in the range of 60 minutes and below. We will focus on this data range. Other values will be handled as outliers and are dropped."
   ]
  },
  {
   "cell_type": "code",
   "execution_count": 156,
   "id": "0656b3f3",
   "metadata": {},
   "outputs": [
    {
     "name": "stdout",
     "output_type": "stream",
     "text": [
      "0.9848140306855904\n"
     ]
    }
   ],
   "source": [
    "# \n",
    "mask = (df[\"duration\"] >= 0) & (df[\"duration\"] <= 60)\n",
    "print(mask.mean())\n",
    "df = df[mask]"
   ]
  },
  {
   "attachments": {},
   "cell_type": "markdown",
   "id": "16599670",
   "metadata": {},
   "source": [
    "# Filter out the relevant columns"
   ]
  },
  {
   "cell_type": "code",
   "execution_count": 157,
   "id": "85f62f08",
   "metadata": {},
   "outputs": [],
   "source": [
    "categorical = [\"PULocationID\", \"DOLocationID\"]\n",
    "numerical = [\"trip_distance\"]"
   ]
  },
  {
   "cell_type": "code",
   "execution_count": 158,
   "id": "5cda2b07",
   "metadata": {},
   "outputs": [
    {
     "data": {
      "text/plain": [
       "PULocationID    int64\n",
       "DOLocationID    int64\n",
       "dtype: object"
      ]
     },
     "execution_count": 158,
     "metadata": {},
     "output_type": "execute_result"
    }
   ],
   "source": [
    "# categorical features are integer values\n",
    "df[categorical].dtypes"
   ]
  },
  {
   "cell_type": "code",
   "execution_count": 159,
   "id": "253e174b",
   "metadata": {},
   "outputs": [
    {
     "name": "stdout",
     "output_type": "stream",
     "text": [
      "PULocationID    object\n",
      "DOLocationID    object\n",
      "dtype: object\n"
     ]
    }
   ],
   "source": [
    "df[categorical] = df[categorical].astype(str)\n",
    "print(df[categorical].dtypes)"
   ]
  },
  {
   "cell_type": "code",
   "execution_count": 160,
   "id": "32ed6cb2",
   "metadata": {},
   "outputs": [
    {
     "name": "stdout",
     "output_type": "stream",
     "text": [
      "VendorID                          int64\n",
      "lpep_pickup_datetime     datetime64[ns]\n",
      "lpep_dropoff_datetime    datetime64[ns]\n",
      "store_and_fwd_flag               object\n",
      "RatecodeID                      float64\n",
      "PULocationID                     object\n",
      "DOLocationID                     object\n",
      "passenger_count                 float64\n",
      "trip_distance                   float64\n",
      "fare_amount                     float64\n",
      "extra                           float64\n",
      "mta_tax                         float64\n",
      "tip_amount                      float64\n",
      "tolls_amount                    float64\n",
      "ehail_fee                        object\n",
      "improvement_surcharge           float64\n",
      "total_amount                    float64\n",
      "payment_type                    float64\n",
      "trip_type                       float64\n",
      "congestion_surcharge            float64\n",
      "duration                        float64\n",
      "dtype: object\n"
     ]
    }
   ],
   "source": [
    "print(df.dtypes)"
   ]
  },
  {
   "cell_type": "code",
   "execution_count": 161,
   "id": "00d8b8b8",
   "metadata": {},
   "outputs": [],
   "source": [
    "train_dicts = df[categorical + numerical].to_dict(orient=\"records\")"
   ]
  },
  {
   "cell_type": "code",
   "execution_count": 162,
   "id": "4f110839",
   "metadata": {},
   "outputs": [],
   "source": [
    "# Transform categorical features into oh-encoded representation\n",
    "dv = DictVectorizer()\n",
    "X_train = dv.fit_transform(train_dicts)"
   ]
  },
  {
   "cell_type": "code",
   "execution_count": 163,
   "id": "2bd1abe4",
   "metadata": {},
   "outputs": [
    {
     "name": "stdout",
     "output_type": "stream",
     "text": [
      "(75356, 508)\n",
      "dv.feature_names:  ['DOLocationID=1', 'DOLocationID=10', 'DOLocationID=100', 'DOLocationID=101', 'DOLocationID=102', 'DOLocationID=106', 'DOLocationID=107', 'DOLocationID=108', 'DOLocationID=109', 'DOLocationID=11', 'DOLocationID=111', 'DOLocationID=112', 'DOLocationID=113', 'DOLocationID=114', 'DOLocationID=115', 'DOLocationID=116', 'DOLocationID=117', 'DOLocationID=118', 'DOLocationID=119', 'DOLocationID=12', 'DOLocationID=120', 'DOLocationID=121', 'DOLocationID=122', 'DOLocationID=123', 'DOLocationID=124', 'DOLocationID=125', 'DOLocationID=126', 'DOLocationID=127', 'DOLocationID=128', 'DOLocationID=129', 'DOLocationID=13', 'DOLocationID=130', 'DOLocationID=131', 'DOLocationID=132', 'DOLocationID=133', 'DOLocationID=134', 'DOLocationID=135', 'DOLocationID=136', 'DOLocationID=137', 'DOLocationID=138', 'DOLocationID=139', 'DOLocationID=14', 'DOLocationID=140', 'DOLocationID=141', 'DOLocationID=142', 'DOLocationID=143', 'DOLocationID=144', 'DOLocationID=145', 'DOLocationID=146', 'DOLocationID=147', 'DOLocationID=148', 'DOLocationID=149', 'DOLocationID=15', 'DOLocationID=150', 'DOLocationID=151', 'DOLocationID=152', 'DOLocationID=153', 'DOLocationID=154', 'DOLocationID=155', 'DOLocationID=156', 'DOLocationID=157', 'DOLocationID=158', 'DOLocationID=159', 'DOLocationID=16', 'DOLocationID=160', 'DOLocationID=161', 'DOLocationID=162', 'DOLocationID=163', 'DOLocationID=164', 'DOLocationID=165', 'DOLocationID=166', 'DOLocationID=167', 'DOLocationID=168', 'DOLocationID=169', 'DOLocationID=17', 'DOLocationID=170', 'DOLocationID=171', 'DOLocationID=172', 'DOLocationID=173', 'DOLocationID=174', 'DOLocationID=175', 'DOLocationID=177', 'DOLocationID=178', 'DOLocationID=179', 'DOLocationID=18', 'DOLocationID=180', 'DOLocationID=181', 'DOLocationID=182', 'DOLocationID=183', 'DOLocationID=184', 'DOLocationID=185', 'DOLocationID=186', 'DOLocationID=187', 'DOLocationID=188', 'DOLocationID=189', 'DOLocationID=19', 'DOLocationID=190', 'DOLocationID=191', 'DOLocationID=192', 'DOLocationID=193', 'DOLocationID=194', 'DOLocationID=195', 'DOLocationID=196', 'DOLocationID=197', 'DOLocationID=198', 'DOLocationID=2', 'DOLocationID=20', 'DOLocationID=200', 'DOLocationID=201', 'DOLocationID=202', 'DOLocationID=203', 'DOLocationID=205', 'DOLocationID=206', 'DOLocationID=207', 'DOLocationID=208', 'DOLocationID=209', 'DOLocationID=21', 'DOLocationID=210', 'DOLocationID=211', 'DOLocationID=212', 'DOLocationID=213', 'DOLocationID=214', 'DOLocationID=215', 'DOLocationID=216', 'DOLocationID=217', 'DOLocationID=218', 'DOLocationID=219', 'DOLocationID=22', 'DOLocationID=220', 'DOLocationID=221', 'DOLocationID=222', 'DOLocationID=223', 'DOLocationID=224', 'DOLocationID=225', 'DOLocationID=226', 'DOLocationID=227', 'DOLocationID=228', 'DOLocationID=229', 'DOLocationID=23', 'DOLocationID=230', 'DOLocationID=231', 'DOLocationID=232', 'DOLocationID=233', 'DOLocationID=234', 'DOLocationID=235', 'DOLocationID=236', 'DOLocationID=237', 'DOLocationID=238', 'DOLocationID=239', 'DOLocationID=24', 'DOLocationID=240', 'DOLocationID=241', 'DOLocationID=242', 'DOLocationID=243', 'DOLocationID=244', 'DOLocationID=245', 'DOLocationID=246', 'DOLocationID=247', 'DOLocationID=248', 'DOLocationID=249', 'DOLocationID=25', 'DOLocationID=250', 'DOLocationID=251', 'DOLocationID=252', 'DOLocationID=253', 'DOLocationID=254', 'DOLocationID=255', 'DOLocationID=256', 'DOLocationID=257', 'DOLocationID=258', 'DOLocationID=259', 'DOLocationID=26', 'DOLocationID=260', 'DOLocationID=261', 'DOLocationID=262', 'DOLocationID=263', 'DOLocationID=264', 'DOLocationID=265', 'DOLocationID=27', 'DOLocationID=28', 'DOLocationID=29', 'DOLocationID=3', 'DOLocationID=30', 'DOLocationID=31', 'DOLocationID=32', 'DOLocationID=33', 'DOLocationID=34', 'DOLocationID=35', 'DOLocationID=36', 'DOLocationID=37', 'DOLocationID=38', 'DOLocationID=39', 'DOLocationID=4', 'DOLocationID=40', 'DOLocationID=41', 'DOLocationID=42', 'DOLocationID=43', 'DOLocationID=44', 'DOLocationID=45', 'DOLocationID=46', 'DOLocationID=47', 'DOLocationID=48', 'DOLocationID=49', 'DOLocationID=50', 'DOLocationID=51', 'DOLocationID=52', 'DOLocationID=53', 'DOLocationID=54', 'DOLocationID=55', 'DOLocationID=56', 'DOLocationID=57', 'DOLocationID=58', 'DOLocationID=59', 'DOLocationID=6', 'DOLocationID=60', 'DOLocationID=61', 'DOLocationID=62', 'DOLocationID=63', 'DOLocationID=64', 'DOLocationID=65', 'DOLocationID=66', 'DOLocationID=67', 'DOLocationID=68', 'DOLocationID=69', 'DOLocationID=7', 'DOLocationID=70', 'DOLocationID=71', 'DOLocationID=72', 'DOLocationID=73', 'DOLocationID=74', 'DOLocationID=75', 'DOLocationID=76', 'DOLocationID=77', 'DOLocationID=78', 'DOLocationID=79', 'DOLocationID=8', 'DOLocationID=80', 'DOLocationID=81', 'DOLocationID=82', 'DOLocationID=83', 'DOLocationID=84', 'DOLocationID=85', 'DOLocationID=86', 'DOLocationID=87', 'DOLocationID=88', 'DOLocationID=89', 'DOLocationID=9', 'DOLocationID=90', 'DOLocationID=91', 'DOLocationID=92', 'DOLocationID=93', 'DOLocationID=94', 'DOLocationID=95', 'DOLocationID=96', 'DOLocationID=97', 'DOLocationID=98', 'PULocationID=1', 'PULocationID=10', 'PULocationID=100', 'PULocationID=101', 'PULocationID=102', 'PULocationID=106', 'PULocationID=107', 'PULocationID=108', 'PULocationID=11', 'PULocationID=112', 'PULocationID=113', 'PULocationID=114', 'PULocationID=115', 'PULocationID=116', 'PULocationID=117', 'PULocationID=118', 'PULocationID=119', 'PULocationID=12', 'PULocationID=120', 'PULocationID=121', 'PULocationID=122', 'PULocationID=123', 'PULocationID=124', 'PULocationID=125', 'PULocationID=126', 'PULocationID=127', 'PULocationID=128', 'PULocationID=129', 'PULocationID=13', 'PULocationID=130', 'PULocationID=131', 'PULocationID=132', 'PULocationID=133', 'PULocationID=134', 'PULocationID=135', 'PULocationID=136', 'PULocationID=137', 'PULocationID=138', 'PULocationID=139', 'PULocationID=14', 'PULocationID=140', 'PULocationID=141', 'PULocationID=142', 'PULocationID=143', 'PULocationID=144', 'PULocationID=145', 'PULocationID=146', 'PULocationID=147', 'PULocationID=148', 'PULocationID=149', 'PULocationID=15', 'PULocationID=150', 'PULocationID=151', 'PULocationID=152', 'PULocationID=153', 'PULocationID=154', 'PULocationID=155', 'PULocationID=156', 'PULocationID=157', 'PULocationID=158', 'PULocationID=159', 'PULocationID=16', 'PULocationID=160', 'PULocationID=161', 'PULocationID=162', 'PULocationID=163', 'PULocationID=164', 'PULocationID=165', 'PULocationID=166', 'PULocationID=167', 'PULocationID=168', 'PULocationID=169', 'PULocationID=17', 'PULocationID=170', 'PULocationID=171', 'PULocationID=172', 'PULocationID=173', 'PULocationID=174', 'PULocationID=175', 'PULocationID=176', 'PULocationID=177', 'PULocationID=178', 'PULocationID=179', 'PULocationID=18', 'PULocationID=180', 'PULocationID=181', 'PULocationID=182', 'PULocationID=183', 'PULocationID=184', 'PULocationID=185', 'PULocationID=186', 'PULocationID=187', 'PULocationID=188', 'PULocationID=189', 'PULocationID=19', 'PULocationID=190', 'PULocationID=191', 'PULocationID=192', 'PULocationID=193', 'PULocationID=194', 'PULocationID=195', 'PULocationID=196', 'PULocationID=197', 'PULocationID=198', 'PULocationID=20', 'PULocationID=200', 'PULocationID=201', 'PULocationID=202', 'PULocationID=203', 'PULocationID=205', 'PULocationID=206', 'PULocationID=207', 'PULocationID=208', 'PULocationID=209', 'PULocationID=21', 'PULocationID=210', 'PULocationID=211', 'PULocationID=212', 'PULocationID=213', 'PULocationID=214', 'PULocationID=215', 'PULocationID=216', 'PULocationID=217', 'PULocationID=218', 'PULocationID=219', 'PULocationID=22', 'PULocationID=220', 'PULocationID=221', 'PULocationID=222', 'PULocationID=223', 'PULocationID=224', 'PULocationID=225', 'PULocationID=226', 'PULocationID=227', 'PULocationID=228', 'PULocationID=229', 'PULocationID=23', 'PULocationID=230', 'PULocationID=231', 'PULocationID=232', 'PULocationID=233', 'PULocationID=234', 'PULocationID=235', 'PULocationID=236', 'PULocationID=237', 'PULocationID=238', 'PULocationID=239', 'PULocationID=24', 'PULocationID=240', 'PULocationID=241', 'PULocationID=242', 'PULocationID=243', 'PULocationID=244', 'PULocationID=245', 'PULocationID=246', 'PULocationID=247', 'PULocationID=248', 'PULocationID=249', 'PULocationID=25', 'PULocationID=250', 'PULocationID=252', 'PULocationID=253', 'PULocationID=254', 'PULocationID=255', 'PULocationID=256', 'PULocationID=257', 'PULocationID=258', 'PULocationID=259', 'PULocationID=26', 'PULocationID=260', 'PULocationID=261', 'PULocationID=262', 'PULocationID=263', 'PULocationID=264', 'PULocationID=265', 'PULocationID=27', 'PULocationID=28', 'PULocationID=29', 'PULocationID=3', 'PULocationID=31', 'PULocationID=32', 'PULocationID=33', 'PULocationID=34', 'PULocationID=35', 'PULocationID=36', 'PULocationID=37', 'PULocationID=38', 'PULocationID=39', 'PULocationID=4', 'PULocationID=40', 'PULocationID=41', 'PULocationID=42', 'PULocationID=43', 'PULocationID=44', 'PULocationID=45', 'PULocationID=46', 'PULocationID=47', 'PULocationID=48', 'PULocationID=49', 'PULocationID=50', 'PULocationID=51', 'PULocationID=52', 'PULocationID=53', 'PULocationID=54', 'PULocationID=55', 'PULocationID=56', 'PULocationID=57', 'PULocationID=58', 'PULocationID=59', 'PULocationID=60', 'PULocationID=61', 'PULocationID=62', 'PULocationID=63', 'PULocationID=64', 'PULocationID=65', 'PULocationID=66', 'PULocationID=67', 'PULocationID=68', 'PULocationID=69', 'PULocationID=7', 'PULocationID=70', 'PULocationID=71', 'PULocationID=72', 'PULocationID=73', 'PULocationID=74', 'PULocationID=75', 'PULocationID=76', 'PULocationID=77', 'PULocationID=78', 'PULocationID=79', 'PULocationID=8', 'PULocationID=80', 'PULocationID=81', 'PULocationID=82', 'PULocationID=83', 'PULocationID=84', 'PULocationID=85', 'PULocationID=86', 'PULocationID=87', 'PULocationID=88', 'PULocationID=89', 'PULocationID=9', 'PULocationID=90', 'PULocationID=91', 'PULocationID=92', 'PULocationID=93', 'PULocationID=94', 'PULocationID=95', 'PULocationID=96', 'PULocationID=97', 'PULocationID=98', 'trip_distance']\n"
     ]
    }
   ],
   "source": [
    "print(X_train.shape)\n",
    "print(\"dv.feature_names: \", dv.feature_names_)"
   ]
  },
  {
   "cell_type": "code",
   "execution_count": 164,
   "id": "3c2d2f59",
   "metadata": {},
   "outputs": [],
   "source": [
    "target = \"duration\"\n",
    "y_train = df[target].values"
   ]
  },
  {
   "cell_type": "code",
   "execution_count": 165,
   "id": "48c4e7b5",
   "metadata": {},
   "outputs": [
    {
     "name": "stdout",
     "output_type": "stream",
     "text": [
      "(75356,)\n"
     ]
    }
   ],
   "source": [
    "print(y_train.shape)"
   ]
  },
  {
   "cell_type": "code",
   "execution_count": 166,
   "id": "f81f7327",
   "metadata": {},
   "outputs": [
    {
     "data": {
      "text/html": [
       "<style>#sk-container-id-3 {color: black;background-color: white;}#sk-container-id-3 pre{padding: 0;}#sk-container-id-3 div.sk-toggleable {background-color: white;}#sk-container-id-3 label.sk-toggleable__label {cursor: pointer;display: block;width: 100%;margin-bottom: 0;padding: 0.3em;box-sizing: border-box;text-align: center;}#sk-container-id-3 label.sk-toggleable__label-arrow:before {content: \"▸\";float: left;margin-right: 0.25em;color: #696969;}#sk-container-id-3 label.sk-toggleable__label-arrow:hover:before {color: black;}#sk-container-id-3 div.sk-estimator:hover label.sk-toggleable__label-arrow:before {color: black;}#sk-container-id-3 div.sk-toggleable__content {max-height: 0;max-width: 0;overflow: hidden;text-align: left;background-color: #f0f8ff;}#sk-container-id-3 div.sk-toggleable__content pre {margin: 0.2em;color: black;border-radius: 0.25em;background-color: #f0f8ff;}#sk-container-id-3 input.sk-toggleable__control:checked~div.sk-toggleable__content {max-height: 200px;max-width: 100%;overflow: auto;}#sk-container-id-3 input.sk-toggleable__control:checked~label.sk-toggleable__label-arrow:before {content: \"▾\";}#sk-container-id-3 div.sk-estimator input.sk-toggleable__control:checked~label.sk-toggleable__label {background-color: #d4ebff;}#sk-container-id-3 div.sk-label input.sk-toggleable__control:checked~label.sk-toggleable__label {background-color: #d4ebff;}#sk-container-id-3 input.sk-hidden--visually {border: 0;clip: rect(1px 1px 1px 1px);clip: rect(1px, 1px, 1px, 1px);height: 1px;margin: -1px;overflow: hidden;padding: 0;position: absolute;width: 1px;}#sk-container-id-3 div.sk-estimator {font-family: monospace;background-color: #f0f8ff;border: 1px dotted black;border-radius: 0.25em;box-sizing: border-box;margin-bottom: 0.5em;}#sk-container-id-3 div.sk-estimator:hover {background-color: #d4ebff;}#sk-container-id-3 div.sk-parallel-item::after {content: \"\";width: 100%;border-bottom: 1px solid gray;flex-grow: 1;}#sk-container-id-3 div.sk-label:hover label.sk-toggleable__label {background-color: #d4ebff;}#sk-container-id-3 div.sk-serial::before {content: \"\";position: absolute;border-left: 1px solid gray;box-sizing: border-box;top: 0;bottom: 0;left: 50%;z-index: 0;}#sk-container-id-3 div.sk-serial {display: flex;flex-direction: column;align-items: center;background-color: white;padding-right: 0.2em;padding-left: 0.2em;position: relative;}#sk-container-id-3 div.sk-item {position: relative;z-index: 1;}#sk-container-id-3 div.sk-parallel {display: flex;align-items: stretch;justify-content: center;background-color: white;position: relative;}#sk-container-id-3 div.sk-item::before, #sk-container-id-3 div.sk-parallel-item::before {content: \"\";position: absolute;border-left: 1px solid gray;box-sizing: border-box;top: 0;bottom: 0;left: 50%;z-index: -1;}#sk-container-id-3 div.sk-parallel-item {display: flex;flex-direction: column;z-index: 1;position: relative;background-color: white;}#sk-container-id-3 div.sk-parallel-item:first-child::after {align-self: flex-end;width: 50%;}#sk-container-id-3 div.sk-parallel-item:last-child::after {align-self: flex-start;width: 50%;}#sk-container-id-3 div.sk-parallel-item:only-child::after {width: 0;}#sk-container-id-3 div.sk-dashed-wrapped {border: 1px dashed gray;margin: 0 0.4em 0.5em 0.4em;box-sizing: border-box;padding-bottom: 0.4em;background-color: white;}#sk-container-id-3 div.sk-label label {font-family: monospace;font-weight: bold;display: inline-block;line-height: 1.2em;}#sk-container-id-3 div.sk-label-container {text-align: center;}#sk-container-id-3 div.sk-container {/* jupyter's `normalize.less` sets `[hidden] { display: none; }` but bootstrap.min.css set `[hidden] { display: none !important; }` so we also need the `!important` here to be able to override the default hidden behavior on the sphinx rendered scikit-learn.org. See: https://github.com/scikit-learn/scikit-learn/issues/21755 */display: inline-block !important;position: relative;}#sk-container-id-3 div.sk-text-repr-fallback {display: none;}</style><div id=\"sk-container-id-3\" class=\"sk-top-container\"><div class=\"sk-text-repr-fallback\"><pre>LinearRegression()</pre><b>In a Jupyter environment, please rerun this cell to show the HTML representation or trust the notebook. <br />On GitHub, the HTML representation is unable to render, please try loading this page with nbviewer.org.</b></div><div class=\"sk-container\" hidden><div class=\"sk-item\"><div class=\"sk-estimator sk-toggleable\"><input class=\"sk-toggleable__control sk-hidden--visually\" id=\"sk-estimator-id-3\" type=\"checkbox\" checked><label for=\"sk-estimator-id-3\" class=\"sk-toggleable__label sk-toggleable__label-arrow\">LinearRegression</label><div class=\"sk-toggleable__content\"><pre>LinearRegression()</pre></div></div></div></div></div>"
      ],
      "text/plain": [
       "LinearRegression()"
      ]
     },
     "execution_count": 166,
     "metadata": {},
     "output_type": "execute_result"
    }
   ],
   "source": [
    "model = LinearRegression()\n",
    "model.fit(X_train, y_train)"
   ]
  },
  {
   "cell_type": "code",
   "execution_count": 167,
   "id": "e790b98c",
   "metadata": {},
   "outputs": [],
   "source": [
    "y_pred = model.predict(X_train)"
   ]
  },
  {
   "cell_type": "code",
   "execution_count": 168,
   "id": "ace38060",
   "metadata": {},
   "outputs": [
    {
     "name": "stderr",
     "output_type": "stream",
     "text": [
      "/tmp/ipykernel_32247/666171209.py:1: UserWarning: \n",
      "\n",
      "`distplot` is a deprecated function and will be removed in seaborn v0.14.0.\n",
      "\n",
      "Please adapt your code to use either `displot` (a figure-level function with\n",
      "similar flexibility) or `histplot` (an axes-level function for histograms).\n",
      "\n",
      "For a guide to updating your code to use the new functions, please see\n",
      "https://gist.github.com/mwaskom/de44147ed2974457ad6372750bbe5751\n",
      "\n",
      "  sns.distplot(y_pred, label=\"prediction\")\n",
      "/tmp/ipykernel_32247/666171209.py:2: UserWarning: \n",
      "\n",
      "`distplot` is a deprecated function and will be removed in seaborn v0.14.0.\n",
      "\n",
      "Please adapt your code to use either `displot` (a figure-level function with\n",
      "similar flexibility) or `histplot` (an axes-level function for histograms).\n",
      "\n",
      "For a guide to updating your code to use the new functions, please see\n",
      "https://gist.github.com/mwaskom/de44147ed2974457ad6372750bbe5751\n",
      "\n",
      "  sns.distplot(y_train, label=\"actual\")\n"
     ]
    },
    {
     "data": {
      "image/png": "[encoded data removed]",
      "text/plain": [
       "<Figure size 640x480 with 1 Axes>"
      ]
     },
     "metadata": {},
     "output_type": "display_data"
    }
   ],
   "source": [
    "sns.distplot(y_pred, label=\"prediction\")\n",
    "sns.distplot(y_train, label=\"actual\")\n",
    "plt.legend()\n",
    "plt.show()"
   ]
  },
  {
   "cell_type": "code",
   "execution_count": 169,
   "id": "efc2ed24",
   "metadata": {},
   "outputs": [
    {
     "name": "stdout",
     "output_type": "stream",
     "text": [
      "MSE(train): 9.93\n"
     ]
    }
   ],
   "source": [
    "mse = mean_squared_error(y_train, y_pred, squared=False)\n",
    "print(f\"MSE(train): {mse:.2f}\")"
   ]
  },
  {
   "attachments": {},
   "cell_type": "markdown",
   "id": "cfa43401",
   "metadata": {},
   "source": [
    "**Get validation data**"
   ]
  },
  {
   "cell_type": "code",
   "execution_count": 170,
   "id": "27f3b1e4",
   "metadata": {},
   "outputs": [
    {
     "name": "stdout",
     "output_type": "stream",
     "text": [
      "['green_tripdata_2021-02.parquet', 'green_tripdata_2021-01.parquet']\n"
     ]
    }
   ],
   "source": [
    "!wget -qq https://d37ci6vzurychx.cloudfront.net/trip-data/green_tripdata_2021-02.parquet\n",
    "!mv green_tripdata_2021-02.parquet data\n",
    "print(os.listdir(\"data\"))"
   ]
  },
  {
   "cell_type": "code",
   "execution_count": 171,
   "id": "e733e677",
   "metadata": {},
   "outputs": [
    {
     "name": "stdout",
     "output_type": "stream",
     "text": [
      "(64572, 20)\n"
     ]
    }
   ],
   "source": [
    "def read_dataframe(filename):\n",
    "    df = pd.read_parquet(filename)\n",
    "    print(df.shape)\n",
    "\n",
    "    # Create duration-column in minunute format\n",
    "    df[\"lpep_pickup_datetime\"] = pd.to_datetime(df[\"lpep_pickup_datetime\"])\n",
    "    df[\"lpep_dropoff_datetime\"] = pd.to_datetime(df[\"lpep_dropoff_datetime\"])\n",
    "\n",
    "    df[\"duration\"] = df[\"lpep_dropoff_datetime\"] - df[\"lpep_pickup_datetime\"]\n",
    "    df[\"duration\"] = df[\"duration\"].apply(lambda td: td.total_seconds() / 60)\n",
    "\n",
    "    # Remove outliers \n",
    "    mask = (df[\"duration\"] >= 0) & (df[\"duration\"] <= 60)\n",
    "    df = df[mask].copy()\n",
    "    \n",
    "    categorical = [\"PULocationID\", \"DOLocationID\"]\n",
    "    numerical = [\"trip_distance\"]\n",
    "\n",
    "    df[categorical] = df[categorical].astype(str)\n",
    "\n",
    "    return df\n",
    "\n",
    "\n",
    "df_val = read_dataframe(\"data/green_tripdata_2021-02.parquet\")"
   ]
  },
  {
   "cell_type": "code",
   "execution_count": 172,
   "id": "5aaeb4f8",
   "metadata": {},
   "outputs": [],
   "source": [
    "val_dicts = df_val[categorical + numerical].to_dict(orient=\"records\")"
   ]
  },
  {
   "cell_type": "code",
   "execution_count": 173,
   "id": "7dd53a0a",
   "metadata": {},
   "outputs": [],
   "source": [
    "X_val = dv.transform(val_dicts)"
   ]
  },
  {
   "cell_type": "code",
   "execution_count": 174,
   "id": "a15953b9",
   "metadata": {},
   "outputs": [],
   "source": [
    "target = \"duration\"\n",
    "y_val = df_val[target].values"
   ]
  },
  {
   "cell_type": "code",
   "execution_count": 175,
   "id": "fc533b8d",
   "metadata": {},
   "outputs": [
    {
     "name": "stdout",
     "output_type": "stream",
     "text": [
      "X(val):  (63050, 508)\n",
      "y(val):  (63050,)\n"
     ]
    }
   ],
   "source": [
    "print(\"X(val): \", X_val.shape)\n",
    "print(\"y(val): \", y_val.shape)\n"
   ]
  },
  {
   "cell_type": "code",
   "execution_count": 176,
   "id": "338f4714",
   "metadata": {},
   "outputs": [
    {
     "name": "stdout",
     "output_type": "stream",
     "text": [
      "RMSE(val): 10.59\n"
     ]
    }
   ],
   "source": [
    "y_pred = model.predict(X_val)\n",
    "rmse = mean_squared_error(y_val, y_pred, squared=False)\n",
    "print(f\"RMSE(val): {rmse:.2f}\")"
   ]
  },
  {
   "attachments": {},
   "cell_type": "markdown",
   "id": "ac6f2805",
   "metadata": {},
   "source": [
    "**Trying out Lasso-Regression**"
   ]
  },
  {
   "cell_type": "code",
   "execution_count": 177,
   "id": "98ed665e",
   "metadata": {},
   "outputs": [
    {
     "data": {
      "text/plain": [
       "10.57410911205217"
      ]
     },
     "execution_count": 177,
     "metadata": {},
     "output_type": "execute_result"
    }
   ],
   "source": [
    "lasso = Lasso(alpha=0.001)\n",
    "lasso.fit(X_train, y_train)\n",
    "\n",
    "y_pred = lasso.predict(X_val)\n",
    "mean_squared_error(y_val, y_pred, squared=False)"
   ]
  },
  {
   "attachments": {},
   "cell_type": "markdown",
   "id": "5c4b1ede",
   "metadata": {},
   "source": [
    "**Trying out Ridge-Regression**"
   ]
  },
  {
   "cell_type": "code",
   "execution_count": 178,
   "id": "d52004b0",
   "metadata": {},
   "outputs": [
    {
     "data": {
      "text/plain": [
       "10.56725178516305"
      ]
     },
     "execution_count": 178,
     "metadata": {},
     "output_type": "execute_result"
    }
   ],
   "source": [
    "rr = Ridge()\n",
    "rr.fit(X_train, y_train)\n",
    "y_pred = rr.predict(X_val)\n",
    "mean_squared_error(y_val, y_pred, squared=False)"
   ]
  },
  {
   "attachments": {},
   "cell_type": "markdown",
   "id": "66185c55",
   "metadata": {},
   "source": [
    "## Useing different features"
   ]
  },
  {
   "cell_type": "code",
   "execution_count": 179,
   "id": "d81550c8",
   "metadata": {},
   "outputs": [
    {
     "name": "stdout",
     "output_type": "stream",
     "text": [
      "(76518, 20)\n",
      "(64572, 20)\n"
     ]
    }
   ],
   "source": [
    "df_train = read_dataframe(\"data/green_tripdata_2021-01.parquet\")\n",
    "df_val = read_dataframe(\"data/green_tripdata_2021-02.parquet\")\n"
   ]
  },
  {
   "cell_type": "code",
   "execution_count": 180,
   "id": "d532d383",
   "metadata": {},
   "outputs": [
    {
     "data": {
      "text/html": [
       "<div>\n",
       "<style scoped>\n",
       "    .dataframe tbody tr th:only-of-type {\n",
       "        vertical-align: middle;\n",
       "    }\n",
       "\n",
       "    .dataframe tbody tr th {\n",
       "        vertical-align: top;\n",
       "    }\n",
       "\n",
       "    .dataframe thead th {\n",
       "        text-align: right;\n",
       "    }\n",
       "</style>\n",
       "<table border=\"1\" class=\"dataframe\">\n",
       "  <thead>\n",
       "    <tr style=\"text-align: right;\">\n",
       "      <th></th>\n",
       "      <th>VendorID</th>\n",
       "      <th>lpep_pickup_datetime</th>\n",
       "      <th>lpep_dropoff_datetime</th>\n",
       "      <th>store_and_fwd_flag</th>\n",
       "      <th>RatecodeID</th>\n",
       "      <th>PULocationID</th>\n",
       "      <th>DOLocationID</th>\n",
       "      <th>passenger_count</th>\n",
       "      <th>trip_distance</th>\n",
       "      <th>fare_amount</th>\n",
       "      <th>...</th>\n",
       "      <th>tip_amount</th>\n",
       "      <th>tolls_amount</th>\n",
       "      <th>ehail_fee</th>\n",
       "      <th>improvement_surcharge</th>\n",
       "      <th>total_amount</th>\n",
       "      <th>payment_type</th>\n",
       "      <th>trip_type</th>\n",
       "      <th>congestion_surcharge</th>\n",
       "      <th>duration</th>\n",
       "      <th>PU_DO</th>\n",
       "    </tr>\n",
       "  </thead>\n",
       "  <tbody>\n",
       "    <tr>\n",
       "      <th>0</th>\n",
       "      <td>2</td>\n",
       "      <td>2021-01-01 00:15:56</td>\n",
       "      <td>2021-01-01 00:19:52</td>\n",
       "      <td>N</td>\n",
       "      <td>1.0</td>\n",
       "      <td>43</td>\n",
       "      <td>151</td>\n",
       "      <td>1.0</td>\n",
       "      <td>1.01</td>\n",
       "      <td>5.5</td>\n",
       "      <td>...</td>\n",
       "      <td>0.00</td>\n",
       "      <td>0.0</td>\n",
       "      <td>None</td>\n",
       "      <td>0.3</td>\n",
       "      <td>6.80</td>\n",
       "      <td>2.0</td>\n",
       "      <td>1.0</td>\n",
       "      <td>0.00</td>\n",
       "      <td>3.933333</td>\n",
       "      <td>43_151</td>\n",
       "    </tr>\n",
       "    <tr>\n",
       "      <th>1</th>\n",
       "      <td>2</td>\n",
       "      <td>2021-01-01 00:25:59</td>\n",
       "      <td>2021-01-01 00:34:44</td>\n",
       "      <td>N</td>\n",
       "      <td>1.0</td>\n",
       "      <td>166</td>\n",
       "      <td>239</td>\n",
       "      <td>1.0</td>\n",
       "      <td>2.53</td>\n",
       "      <td>10.0</td>\n",
       "      <td>...</td>\n",
       "      <td>2.81</td>\n",
       "      <td>0.0</td>\n",
       "      <td>None</td>\n",
       "      <td>0.3</td>\n",
       "      <td>16.86</td>\n",
       "      <td>1.0</td>\n",
       "      <td>1.0</td>\n",
       "      <td>2.75</td>\n",
       "      <td>8.750000</td>\n",
       "      <td>166_239</td>\n",
       "    </tr>\n",
       "    <tr>\n",
       "      <th>2</th>\n",
       "      <td>2</td>\n",
       "      <td>2021-01-01 00:45:57</td>\n",
       "      <td>2021-01-01 00:51:55</td>\n",
       "      <td>N</td>\n",
       "      <td>1.0</td>\n",
       "      <td>41</td>\n",
       "      <td>42</td>\n",
       "      <td>1.0</td>\n",
       "      <td>1.12</td>\n",
       "      <td>6.0</td>\n",
       "      <td>...</td>\n",
       "      <td>1.00</td>\n",
       "      <td>0.0</td>\n",
       "      <td>None</td>\n",
       "      <td>0.3</td>\n",
       "      <td>8.30</td>\n",
       "      <td>1.0</td>\n",
       "      <td>1.0</td>\n",
       "      <td>0.00</td>\n",
       "      <td>5.966667</td>\n",
       "      <td>41_42</td>\n",
       "    </tr>\n",
       "    <tr>\n",
       "      <th>3</th>\n",
       "      <td>2</td>\n",
       "      <td>2020-12-31 23:57:51</td>\n",
       "      <td>2021-01-01 00:04:56</td>\n",
       "      <td>N</td>\n",
       "      <td>1.0</td>\n",
       "      <td>168</td>\n",
       "      <td>75</td>\n",
       "      <td>1.0</td>\n",
       "      <td>1.99</td>\n",
       "      <td>8.0</td>\n",
       "      <td>...</td>\n",
       "      <td>0.00</td>\n",
       "      <td>0.0</td>\n",
       "      <td>None</td>\n",
       "      <td>0.3</td>\n",
       "      <td>9.30</td>\n",
       "      <td>2.0</td>\n",
       "      <td>1.0</td>\n",
       "      <td>0.00</td>\n",
       "      <td>7.083333</td>\n",
       "      <td>168_75</td>\n",
       "    </tr>\n",
       "    <tr>\n",
       "      <th>4</th>\n",
       "      <td>2</td>\n",
       "      <td>2021-01-01 00:16:36</td>\n",
       "      <td>2021-01-01 00:16:40</td>\n",
       "      <td>N</td>\n",
       "      <td>2.0</td>\n",
       "      <td>265</td>\n",
       "      <td>265</td>\n",
       "      <td>3.0</td>\n",
       "      <td>0.00</td>\n",
       "      <td>-52.0</td>\n",
       "      <td>...</td>\n",
       "      <td>0.00</td>\n",
       "      <td>0.0</td>\n",
       "      <td>None</td>\n",
       "      <td>-0.3</td>\n",
       "      <td>-52.80</td>\n",
       "      <td>3.0</td>\n",
       "      <td>1.0</td>\n",
       "      <td>0.00</td>\n",
       "      <td>0.066667</td>\n",
       "      <td>265_265</td>\n",
       "    </tr>\n",
       "  </tbody>\n",
       "</table>\n",
       "<p>5 rows × 22 columns</p>\n",
       "</div>"
      ],
      "text/plain": [
       "   VendorID lpep_pickup_datetime lpep_dropoff_datetime store_and_fwd_flag   \n",
       "0         2  2021-01-01 00:15:56   2021-01-01 00:19:52                  N  \\\n",
       "1         2  2021-01-01 00:25:59   2021-01-01 00:34:44                  N   \n",
       "2         2  2021-01-01 00:45:57   2021-01-01 00:51:55                  N   \n",
       "3         2  2020-12-31 23:57:51   2021-01-01 00:04:56                  N   \n",
       "4         2  2021-01-01 00:16:36   2021-01-01 00:16:40                  N   \n",
       "\n",
       "   RatecodeID PULocationID DOLocationID  passenger_count  trip_distance   \n",
       "0         1.0           43          151              1.0           1.01  \\\n",
       "1         1.0          166          239              1.0           2.53   \n",
       "2         1.0           41           42              1.0           1.12   \n",
       "3         1.0          168           75              1.0           1.99   \n",
       "4         2.0          265          265              3.0           0.00   \n",
       "\n",
       "   fare_amount  ...  tip_amount  tolls_amount  ehail_fee   \n",
       "0          5.5  ...        0.00           0.0       None  \\\n",
       "1         10.0  ...        2.81           0.0       None   \n",
       "2          6.0  ...        1.00           0.0       None   \n",
       "3          8.0  ...        0.00           0.0       None   \n",
       "4        -52.0  ...        0.00           0.0       None   \n",
       "\n",
       "   improvement_surcharge total_amount  payment_type  trip_type   \n",
       "0                    0.3         6.80           2.0        1.0  \\\n",
       "1                    0.3        16.86           1.0        1.0   \n",
       "2                    0.3         8.30           1.0        1.0   \n",
       "3                    0.3         9.30           2.0        1.0   \n",
       "4                   -0.3       -52.80           3.0        1.0   \n",
       "\n",
       "   congestion_surcharge  duration    PU_DO  \n",
       "0                  0.00  3.933333   43_151  \n",
       "1                  2.75  8.750000  166_239  \n",
       "2                  0.00  5.966667    41_42  \n",
       "3                  0.00  7.083333   168_75  \n",
       "4                  0.00  0.066667  265_265  \n",
       "\n",
       "[5 rows x 22 columns]"
      ]
     },
     "execution_count": 180,
     "metadata": {},
     "output_type": "execute_result"
    }
   ],
   "source": [
    "df_train[\"PU_DO\"] = df_train[\"PULocationID\"] + \"_\" + df_train[\"DOLocationID\"]\n",
    "df_val[\"PU_DO\"] = df_val[\"PULocationID\"] + \"_\" + df_val[\"DOLocationID\"]\n",
    "df_train.head()\n"
   ]
  },
  {
   "cell_type": "code",
   "execution_count": 181,
   "id": "5eeaf903",
   "metadata": {},
   "outputs": [],
   "source": [
    "categorical = [\"PU_DO\"]\n",
    "numerical = [\"trip_distance\"]\n",
    "\n",
    "dv = DictVectorizer()\n",
    "train_dicts = df_train[categorical + numerical].to_dict(orient=\"records\")\n",
    "X_train = dv.fit_transform(train_dicts)\n",
    "val_dicts = df_val[categorical + numerical].to_dict(orient=\"records\")\n",
    "X_val = dv.transform(val_dicts)"
   ]
  },
  {
   "cell_type": "code",
   "execution_count": 182,
   "id": "3e8cc7c0",
   "metadata": {},
   "outputs": [],
   "source": [
    "target = \"duration\"\n",
    "y_train = df_train[target].values\n",
    "y_val = df_val[target].values"
   ]
  },
  {
   "attachments": {},
   "cell_type": "markdown",
   "id": "fdfb87aa",
   "metadata": {},
   "source": [
    "### Training some linear models and evaluating them"
   ]
  },
  {
   "attachments": {},
   "cell_type": "markdown",
   "id": "272d2e7b",
   "metadata": {},
   "source": [
    "**Linear-Regression**"
   ]
  },
  {
   "cell_type": "code",
   "execution_count": 183,
   "id": "9afa2099",
   "metadata": {},
   "outputs": [
    {
     "data": {
      "text/plain": [
       "7.808922486991302"
      ]
     },
     "execution_count": 183,
     "metadata": {},
     "output_type": "execute_result"
    }
   ],
   "source": [
    "lr = LinearRegression()\n",
    "lr.fit(X_train, y_train)\n",
    "y_pred = lr.predict(X_val)\n",
    "mean_squared_error(y_val, y_pred, squared=False)"
   ]
  },
  {
   "attachments": {},
   "cell_type": "markdown",
   "id": "ad1149d2",
   "metadata": {},
   "source": [
    "**Lasso-Regression**"
   ]
  },
  {
   "cell_type": "code",
   "execution_count": 184,
   "id": "ecc1e153",
   "metadata": {},
   "outputs": [
    {
     "data": {
      "text/plain": [
       "12.325863638829496"
      ]
     },
     "execution_count": 184,
     "metadata": {},
     "output_type": "execute_result"
    }
   ],
   "source": [
    "lr_1 = Lasso()\n",
    "lr_1.fit(X_train, y_train)\n",
    "y_pred = lr_1.predict(X_val)\n",
    "mean_squared_error(y_val, y_pred, squared=False)"
   ]
  },
  {
   "attachments": {},
   "cell_type": "markdown",
   "id": "9cfa8378",
   "metadata": {},
   "source": [
    "**Ridge-Regression**"
   ]
  },
  {
   "cell_type": "code",
   "execution_count": 185,
   "id": "f803a63e",
   "metadata": {},
   "outputs": [
    {
     "data": {
      "text/plain": [
       "7.716658013365441"
      ]
     },
     "execution_count": 185,
     "metadata": {},
     "output_type": "execute_result"
    }
   ],
   "source": [
    "lr_2 = Ridge()\n",
    "lr_2.fit(X_train, y_train)\n",
    "y_pred = lr_2.predict(X_val)\n",
    "mean_squared_error(y_val, y_pred, squared=False)"
   ]
  },
  {
   "attachments": {},
   "cell_type": "markdown",
   "id": "f6ff134a",
   "metadata": {},
   "source": [
    "## Saving a good model"
   ]
  },
  {
   "cell_type": "code",
   "execution_count": 186,
   "id": "793579f9",
   "metadata": {},
   "outputs": [],
   "source": [
    "import pickle"
   ]
  },
  {
   "attachments": {},
   "cell_type": "markdown",
   "id": "d76a47ab",
   "metadata": {},
   "source": [
    "**The saved model will be used throughout the whole course**"
   ]
  },
  {
   "cell_type": "code",
   "execution_count": 189,
   "id": "2f4f599a",
   "metadata": {},
   "outputs": [],
   "source": [
    "model_folder = \"./models/\"\n",
    "if not os.path.exists(model_folder):\n",
    "    os.mkdir(model_folder)\n",
    "\n",
    "with open(\"./models/_lin_reg.bin\", \"wb\") as f_out:\n",
    "    pickle.dump((dv, lr), f_out)"
   ]
  },
  {
   "attachments": {},
   "cell_type": "markdown",
   "id": "0332128b",
   "metadata": {},
   "source": [
    "# Summary"
   ]
  },
  {
   "attachments": {},
   "cell_type": "markdown",
   "id": "7d3dd2e7",
   "metadata": {},
   "source": [
    "..."
   ]
  },
  {
   "attachments": {},
   "cell_type": "markdown",
   "id": "8d4859b5",
   "metadata": {},
   "source": []
  }
 ],
 "metadata": {
  "kernelspec": {
   "display_name": "Python 3 (ipykernel)",
   "language": "python",
   "name": "python3"
  },
  "language_info": {
   "codemirror_mode": {
    "name": "ipython",
    "version": 3
   },
   "file_extension": ".py",
   "mimetype": "text/x-python",
   "name": "python",
   "nbconvert_exporter": "python",
   "pygments_lexer": "ipython3",
   "version": "3.10.9"
  }
 },
 "nbformat": 4,
 "nbformat_minor": 5
}
