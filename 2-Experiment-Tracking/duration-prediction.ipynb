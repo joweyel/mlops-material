{
 "cells": [
  {
   "cell_type": "code",
   "execution_count": 1,
   "id": "2fb61793",
   "metadata": {},
   "outputs": [],
   "source": [
    "import os\n",
    "import pandas as pd\n",
    "import pickle\n",
    "import seaborn as sns\n",
    "import matplotlib.pyplot as plt\n",
    "sns.set_style(\"darkgrid\")"
   ]
  },
  {
   "cell_type": "code",
   "execution_count": 2,
   "id": "5cb849d4",
   "metadata": {},
   "outputs": [],
   "source": [
    "from sklearn.feature_extraction import DictVectorizer\n",
    "from sklearn.linear_model import LinearRegression\n",
    "from sklearn.linear_model import Lasso\n",
    "from sklearn.linear_model import Ridge\n",
    "\n",
    "from sklearn.metrics import mean_squared_error"
   ]
  },
  {
   "cell_type": "code",
   "execution_count": 3,
   "id": "46bf23aa",
   "metadata": {},
   "outputs": [],
   "source": [
    "import mlflow"
   ]
  },
  {
   "attachments": {},
   "cell_type": "markdown",
   "id": "3179c64a",
   "metadata": {},
   "source": [
    "**Download the data**"
   ]
  },
  {
   "attachments": {},
   "cell_type": "markdown",
   "id": "3aae8939",
   "metadata": {},
   "source": [
    "- [NYC taxi data](https://www1.nyc.gov/site/tlc/about/tlc-trip-record-data.page)\n",
    "    - 2022, Yellow, January\n",
    "    - 2022, Yellow, February"
   ]
  },
  {
   "cell_type": "code",
   "execution_count": 8,
   "id": "d79aa123",
   "metadata": {},
   "outputs": [
    {
     "name": "stdout",
     "output_type": "stream",
     "text": [
      "Train:  (2421440, 20)\n",
      "Val:  (2918187, 20)\n"
     ]
    }
   ],
   "source": [
    "def read_dataframe(filename):\n",
    "    df = pd.read_parquet(filename)\n",
    "\n",
    "    df[\"tpep_dropoff_datetime\"] = pd.to_datetime(df[\"tpep_dropoff_datetime\"])\n",
    "    df[\"tpep_pickup_datetime\"] = pd.to_datetime(df[\"tpep_pickup_datetime\"])\n",
    "\n",
    "    # create duration-column\n",
    "    df[\"duration\"] = df[\"tpep_dropoff_datetime\"] - df[\"tpep_pickup_datetime\"]\n",
    "    df[\"duration\"] = df[\"duration\"].dt.total_seconds() / 60\n",
    "\n",
    "    # remove outliers\n",
    "    df = df[(df[\"duration\"] >= 1) & (df[\"duration\"] <= 60)].copy()\n",
    "\n",
    "    # convert categorical features to strings (to get 1-hot encoding)\n",
    "    categorical = [\"PULocationID\", \"DOLocationID\"]\n",
    "    df[categorical] = df[categorical].astype(str)\n",
    "\n",
    "    return df\n",
    "\n",
    "train_file = \"data/yellow_tripdata_2022-01.parquet\"\n",
    "val_file = \"data/yellow_tripdata_2022-02.parquet\"\n",
    "\n",
    "df_train = read_dataframe(train_file)\n",
    "print(\"Train: \", df_train.shape)\n",
    "\n",
    "df_val = read_dataframe(val_file)\n",
    "print(\"Val: \", df_val.shape)"
   ]
  },
  {
   "attachments": {},
   "cell_type": "markdown",
   "id": "b953d72b",
   "metadata": {},
   "source": [
    "**Create new features**"
   ]
  },
  {
   "cell_type": "code",
   "execution_count": 9,
   "id": "66b7302a",
   "metadata": {},
   "outputs": [],
   "source": [
    "df_train[\"PU_DO\"] = df_train[\"PULocationID\"] + \"_\" + df_train[\"DOLocationID\"]\n",
    "df_val[\"PU_DO\"] = df_val[\"PULocationID\"] + \"_\" + df_val[\"DOLocationID\"]"
   ]
  },
  {
   "cell_type": "code",
   "execution_count": 10,
   "id": "b00a578f",
   "metadata": {},
   "outputs": [],
   "source": [
    "categorical = [\"PU_DO\"]\n",
    "numerical = [\"trip_distance\"]\n",
    "\n",
    "dv = DictVectorizer()\n",
    "\n",
    "train_dicts = df_train[categorical + numerical].to_dict(orient=\"records\")\n",
    "X_train = dv.fit_transform(train_dicts)\n",
    "\n",
    "val_dicts = df_val[categorical + numerical].to_dict(orient=\"records\")\n",
    "X_val = dv.transform(val_dicts)"
   ]
  },
  {
   "cell_type": "code",
   "execution_count": 11,
   "id": "67fe7900",
   "metadata": {},
   "outputs": [],
   "source": [
    "target = \"duration\"\n",
    "y_train = df_train[target].values\n",
    "y_val = df_val[target].values"
   ]
  },
  {
   "attachments": {},
   "cell_type": "markdown",
   "id": "3ffdf737",
   "metadata": {},
   "source": [
    "**Linear Regression**"
   ]
  },
  {
   "cell_type": "code",
   "execution_count": 12,
   "id": "9211bb90",
   "metadata": {},
   "outputs": [
    {
     "data": {
      "text/plain": [
       "5.530168304657237"
      ]
     },
     "execution_count": 12,
     "metadata": {},
     "output_type": "execute_result"
    }
   ],
   "source": [
    "lr = LinearRegression()\n",
    "lr.fit(X_train, y_train)\n",
    "\n",
    "y_pred = lr.predict(X_val)\n",
    "\n",
    "mean_squared_error(y_val, y_pred, squared=False)"
   ]
  },
  {
   "cell_type": "code",
   "execution_count": 14,
   "id": "487b3094",
   "metadata": {},
   "outputs": [],
   "source": [
    "models_dir = \"./models/\"\n",
    "if not os.path.exists(models_dir):\n",
    "    os.mkdir(models_dir)\n",
    "\n",
    "with open(\"./models/lin_reg.bin\", \"wb\") as f_out:\n",
    "    pickle.dump((dv, lr), f_out)"
   ]
  },
  {
   "attachments": {},
   "cell_type": "markdown",
   "id": "d68ab810",
   "metadata": {},
   "source": [
    "## Experiment Tracking with MLflow"
   ]
  },
  {
   "cell_type": "code",
   "execution_count": 21,
   "id": "f8d2273b",
   "metadata": {},
   "outputs": [
    {
     "ename": "MlflowException",
     "evalue": "The configured tracking uri scheme: 'file' is invalid for use with the proxy mlflow-artifact scheme. The allowed tracking schemes are: {'http', 'https'}",
     "output_type": "error",
     "traceback": [
      "\u001b[0;31m---------------------------------------------------------------------------\u001b[0m",
      "\u001b[0;31mMlflowException\u001b[0m                           Traceback (most recent call last)",
      "Cell \u001b[0;32mIn[21], line 19\u001b[0m\n\u001b[1;32m     16\u001b[0m rmse \u001b[39m=\u001b[39m mean_squared_error(y_val, y_pred, squared\u001b[39m=\u001b[39m\u001b[39mFalse\u001b[39;00m)\n\u001b[1;32m     17\u001b[0m mlflow\u001b[39m.\u001b[39mlog_metric(\u001b[39m\"\u001b[39m\u001b[39mrmse\u001b[39m\u001b[39m\"\u001b[39m, rmse)\n\u001b[0;32m---> 19\u001b[0m mlflow\u001b[39m.\u001b[39;49mlog_artifact(local_path\u001b[39m=\u001b[39;49m\u001b[39m\"\u001b[39;49m\u001b[39mmodels/lin_reg.bin\u001b[39;49m\u001b[39m\"\u001b[39;49m, artifact_path\u001b[39m=\u001b[39;49m\u001b[39m\"\u001b[39;49m\u001b[39mmodels_pickle\u001b[39;49m\u001b[39m\"\u001b[39;49m)\n",
      "File \u001b[0;32m~/miniconda3/envs/mlops-env/lib/python3.10/site-packages/mlflow/tracking/fluent.py:784\u001b[0m, in \u001b[0;36mlog_artifact\u001b[0;34m(local_path, artifact_path)\u001b[0m\n\u001b[1;32m    761\u001b[0m \u001b[39m\u001b[39m\u001b[39m\"\"\"\u001b[39;00m\n\u001b[1;32m    762\u001b[0m \u001b[39mLog a local file or directory as an artifact of the currently active run. If no run is\u001b[39;00m\n\u001b[1;32m    763\u001b[0m \u001b[39mactive, this method will create a new active run.\u001b[39;00m\n\u001b[0;32m   (...)\u001b[0m\n\u001b[1;32m    781\u001b[0m \u001b[39m        mlflow.log_artifact(\"features.txt\")\u001b[39;00m\n\u001b[1;32m    782\u001b[0m \u001b[39m\"\"\"\u001b[39;00m\n\u001b[1;32m    783\u001b[0m run_id \u001b[39m=\u001b[39m _get_or_start_run()\u001b[39m.\u001b[39minfo\u001b[39m.\u001b[39mrun_id\n\u001b[0;32m--> 784\u001b[0m MlflowClient()\u001b[39m.\u001b[39;49mlog_artifact(run_id, local_path, artifact_path)\n",
      "File \u001b[0;32m~/miniconda3/envs/mlops-env/lib/python3.10/site-packages/mlflow/tracking/client.py:1028\u001b[0m, in \u001b[0;36mMlflowClient.log_artifact\u001b[0;34m(self, run_id, local_path, artifact_path)\u001b[0m\n\u001b[1;32m    993\u001b[0m \u001b[39mdef\u001b[39;00m \u001b[39mlog_artifact\u001b[39m(\u001b[39mself\u001b[39m, run_id, local_path, artifact_path\u001b[39m=\u001b[39m\u001b[39mNone\u001b[39;00m) \u001b[39m-\u001b[39m\u001b[39m>\u001b[39m \u001b[39mNone\u001b[39;00m:\n\u001b[1;32m    994\u001b[0m \u001b[39m    \u001b[39m\u001b[39m\"\"\"\u001b[39;00m\n\u001b[1;32m    995\u001b[0m \u001b[39m    Write a local file or directory to the remote ``artifact_uri``.\u001b[39;00m\n\u001b[1;32m    996\u001b[0m \n\u001b[0;32m   (...)\u001b[0m\n\u001b[1;32m   1026\u001b[0m \u001b[39m        is_dir: False\u001b[39;00m\n\u001b[1;32m   1027\u001b[0m \u001b[39m    \"\"\"\u001b[39;00m\n\u001b[0;32m-> 1028\u001b[0m     \u001b[39mself\u001b[39;49m\u001b[39m.\u001b[39;49m_tracking_client\u001b[39m.\u001b[39;49mlog_artifact(run_id, local_path, artifact_path)\n",
      "File \u001b[0;32m~/miniconda3/envs/mlops-env/lib/python3.10/site-packages/mlflow/tracking/_tracking_service/client.py:431\u001b[0m, in \u001b[0;36mTrackingServiceClient.log_artifact\u001b[0;34m(self, run_id, local_path, artifact_path)\u001b[0m\n\u001b[1;32m    424\u001b[0m \u001b[39mdef\u001b[39;00m \u001b[39mlog_artifact\u001b[39m(\u001b[39mself\u001b[39m, run_id, local_path, artifact_path\u001b[39m=\u001b[39m\u001b[39mNone\u001b[39;00m):\n\u001b[1;32m    425\u001b[0m \u001b[39m    \u001b[39m\u001b[39m\"\"\"\u001b[39;00m\n\u001b[1;32m    426\u001b[0m \u001b[39m    Write a local file or directory to the remote ``artifact_uri``.\u001b[39;00m\n\u001b[1;32m    427\u001b[0m \n\u001b[1;32m    428\u001b[0m \u001b[39m    :param local_path: Path to the file or directory to write.\u001b[39;00m\n\u001b[1;32m    429\u001b[0m \u001b[39m    :param artifact_path: If provided, the directory in ``artifact_uri`` to write to.\u001b[39;00m\n\u001b[1;32m    430\u001b[0m \u001b[39m    \"\"\"\u001b[39;00m\n\u001b[0;32m--> 431\u001b[0m     artifact_repo \u001b[39m=\u001b[39m \u001b[39mself\u001b[39;49m\u001b[39m.\u001b[39;49m_get_artifact_repo(run_id)\n\u001b[1;32m    432\u001b[0m     \u001b[39mif\u001b[39;00m os\u001b[39m.\u001b[39mpath\u001b[39m.\u001b[39misdir(local_path):\n\u001b[1;32m    433\u001b[0m         dir_name \u001b[39m=\u001b[39m os\u001b[39m.\u001b[39mpath\u001b[39m.\u001b[39mbasename(os\u001b[39m.\u001b[39mpath\u001b[39m.\u001b[39mnormpath(local_path))\n",
      "File \u001b[0;32m~/miniconda3/envs/mlops-env/lib/python3.10/site-packages/mlflow/tracking/_tracking_service/client.py:416\u001b[0m, in \u001b[0;36mTrackingServiceClient._get_artifact_repo\u001b[0;34m(self, run_id)\u001b[0m\n\u001b[1;32m    412\u001b[0m run \u001b[39m=\u001b[39m \u001b[39mself\u001b[39m\u001b[39m.\u001b[39mget_run(run_id)\n\u001b[1;32m    413\u001b[0m artifact_uri \u001b[39m=\u001b[39m add_databricks_profile_info_to_artifact_uri(\n\u001b[1;32m    414\u001b[0m     run\u001b[39m.\u001b[39minfo\u001b[39m.\u001b[39martifact_uri, \u001b[39mself\u001b[39m\u001b[39m.\u001b[39mtracking_uri\n\u001b[1;32m    415\u001b[0m )\n\u001b[0;32m--> 416\u001b[0m artifact_repo \u001b[39m=\u001b[39m get_artifact_repository(artifact_uri)\n\u001b[1;32m    417\u001b[0m \u001b[39m# Cache the artifact repo to avoid a future network call, removing the oldest\u001b[39;00m\n\u001b[1;32m    418\u001b[0m \u001b[39m# entry in the cache if there are too many elements\u001b[39;00m\n\u001b[1;32m    419\u001b[0m \u001b[39mif\u001b[39;00m \u001b[39mlen\u001b[39m(TrackingServiceClient\u001b[39m.\u001b[39m_artifact_repos_cache) \u001b[39m>\u001b[39m \u001b[39m1024\u001b[39m:\n",
      "File \u001b[0;32m~/miniconda3/envs/mlops-env/lib/python3.10/site-packages/mlflow/store/artifact/artifact_repository_registry.py:106\u001b[0m, in \u001b[0;36mget_artifact_repository\u001b[0;34m(artifact_uri)\u001b[0m\n\u001b[1;32m     96\u001b[0m \u001b[39mdef\u001b[39;00m \u001b[39mget_artifact_repository\u001b[39m(artifact_uri):\n\u001b[1;32m     97\u001b[0m \u001b[39m    \u001b[39m\u001b[39m\"\"\"Get an artifact repository from the registry based on the scheme of artifact_uri\u001b[39;00m\n\u001b[1;32m     98\u001b[0m \n\u001b[1;32m     99\u001b[0m \u001b[39m    :param artifact_uri: The artifact store URI. This URI is used to select which artifact\u001b[39;00m\n\u001b[0;32m   (...)\u001b[0m\n\u001b[1;32m    104\u001b[0m \u001b[39m             requirements.\u001b[39;00m\n\u001b[1;32m    105\u001b[0m \u001b[39m    \"\"\"\u001b[39;00m\n\u001b[0;32m--> 106\u001b[0m     \u001b[39mreturn\u001b[39;00m _artifact_repository_registry\u001b[39m.\u001b[39;49mget_artifact_repository(artifact_uri)\n",
      "File \u001b[0;32m~/miniconda3/envs/mlops-env/lib/python3.10/site-packages/mlflow/store/artifact/artifact_repository_registry.py:72\u001b[0m, in \u001b[0;36mArtifactRepositoryRegistry.get_artifact_repository\u001b[0;34m(self, artifact_uri)\u001b[0m\n\u001b[1;32m     65\u001b[0m \u001b[39mif\u001b[39;00m repository \u001b[39mis\u001b[39;00m \u001b[39mNone\u001b[39;00m:\n\u001b[1;32m     66\u001b[0m     \u001b[39mraise\u001b[39;00m MlflowException(\n\u001b[1;32m     67\u001b[0m         \u001b[39m\"\u001b[39m\u001b[39mCould not find a registered artifact repository for: \u001b[39m\u001b[39m{}\u001b[39;00m\u001b[39m. \u001b[39m\u001b[39m\"\u001b[39m\n\u001b[1;32m     68\u001b[0m         \u001b[39m\"\u001b[39m\u001b[39mCurrently registered schemes are: \u001b[39m\u001b[39m{}\u001b[39;00m\u001b[39m\"\u001b[39m\u001b[39m.\u001b[39mformat(\n\u001b[1;32m     69\u001b[0m             artifact_uri, \u001b[39mlist\u001b[39m(\u001b[39mself\u001b[39m\u001b[39m.\u001b[39m_registry\u001b[39m.\u001b[39mkeys())\n\u001b[1;32m     70\u001b[0m         )\n\u001b[1;32m     71\u001b[0m     )\n\u001b[0;32m---> 72\u001b[0m \u001b[39mreturn\u001b[39;00m repository(artifact_uri)\n",
      "File \u001b[0;32m~/miniconda3/envs/mlops-env/lib/python3.10/site-packages/mlflow/store/artifact/mlflow_artifacts_repo.py:45\u001b[0m, in \u001b[0;36mMlflowArtifactsRepository.__init__\u001b[0;34m(self, artifact_uri)\u001b[0m\n\u001b[1;32m     44\u001b[0m \u001b[39mdef\u001b[39;00m \u001b[39m__init__\u001b[39m(\u001b[39mself\u001b[39m, artifact_uri):\n\u001b[0;32m---> 45\u001b[0m     \u001b[39msuper\u001b[39m()\u001b[39m.\u001b[39m\u001b[39m__init__\u001b[39m(\u001b[39mself\u001b[39;49m\u001b[39m.\u001b[39;49mresolve_uri(artifact_uri, get_tracking_uri()))\n",
      "File \u001b[0;32m~/miniconda3/envs/mlops-env/lib/python3.10/site-packages/mlflow/store/artifact/mlflow_artifacts_repo.py:59\u001b[0m, in \u001b[0;36mMlflowArtifactsRepository.resolve_uri\u001b[0;34m(cls, artifact_uri, tracking_uri)\u001b[0m\n\u001b[1;32m     56\u001b[0m _validate_port_mapped_to_hostname(uri_parse)\n\u001b[1;32m     58\u001b[0m \u001b[39m# Check that tracking uri is http or https\u001b[39;00m\n\u001b[0;32m---> 59\u001b[0m _validate_uri_scheme(track_parse\u001b[39m.\u001b[39;49mscheme)\n\u001b[1;32m     61\u001b[0m \u001b[39mif\u001b[39;00m uri_parse\u001b[39m.\u001b[39mpath \u001b[39m==\u001b[39m \u001b[39m\"\u001b[39m\u001b[39m/\u001b[39m\u001b[39m\"\u001b[39m:  \u001b[39m# root directory; build simple path\u001b[39;00m\n\u001b[1;32m     62\u001b[0m     resolved \u001b[39m=\u001b[39m \u001b[39mf\u001b[39m\u001b[39m\"\u001b[39m\u001b[39m{\u001b[39;00mbase_url\u001b[39m}\u001b[39;00m\u001b[39m{\u001b[39;00muri_parse\u001b[39m.\u001b[39mpath\u001b[39m}\u001b[39;00m\u001b[39m\"\u001b[39m\n",
      "File \u001b[0;32m~/miniconda3/envs/mlops-env/lib/python3.10/site-packages/mlflow/store/artifact/mlflow_artifacts_repo.py:35\u001b[0m, in \u001b[0;36m_validate_uri_scheme\u001b[0;34m(scheme)\u001b[0m\n\u001b[1;32m     33\u001b[0m allowable_schemes \u001b[39m=\u001b[39m {\u001b[39m\"\u001b[39m\u001b[39mhttp\u001b[39m\u001b[39m\"\u001b[39m, \u001b[39m\"\u001b[39m\u001b[39mhttps\u001b[39m\u001b[39m\"\u001b[39m}\n\u001b[1;32m     34\u001b[0m \u001b[39mif\u001b[39;00m scheme \u001b[39mnot\u001b[39;00m \u001b[39min\u001b[39;00m allowable_schemes:\n\u001b[0;32m---> 35\u001b[0m     \u001b[39mraise\u001b[39;00m MlflowException(\n\u001b[1;32m     36\u001b[0m         \u001b[39mf\u001b[39m\u001b[39m\"\u001b[39m\u001b[39mThe configured tracking uri scheme: \u001b[39m\u001b[39m'\u001b[39m\u001b[39m{\u001b[39;00mscheme\u001b[39m}\u001b[39;00m\u001b[39m'\u001b[39m\u001b[39m is invalid for use with the proxy \u001b[39m\u001b[39m\"\u001b[39m\n\u001b[1;32m     37\u001b[0m         \u001b[39mf\u001b[39m\u001b[39m\"\u001b[39m\u001b[39mmlflow-artifact scheme. The allowed tracking schemes are: \u001b[39m\u001b[39m{\u001b[39;00mallowable_schemes\u001b[39m}\u001b[39;00m\u001b[39m\"\u001b[39m\n\u001b[1;32m     38\u001b[0m     )\n",
      "\u001b[0;31mMlflowException\u001b[0m: The configured tracking uri scheme: 'file' is invalid for use with the proxy mlflow-artifact scheme. The allowed tracking schemes are: {'http', 'https'}"
     ]
    }
   ],
   "source": [
    "# mlflow.set_tracking_uri(remote_server_uri)\n",
    "\n",
    "with mlflow.start_run():\n",
    "\n",
    "    mlflow.set_tag(\"developer\", \"johannes\")\n",
    "\n",
    "    mlflow.log_param(\"train-data-path\", \"./data/yellow_tripdata_2022-01.parquet\")\n",
    "    mlflow.log_param(\"valid-data-path\", \"./data/yellow_tripdata_2022-02.parquet\")\n",
    "\n",
    "    alpha = 0.1\n",
    "    mlflow.log_param(\"alpha\", alpha)\n",
    "    lr = Lasso(alpha)\n",
    "    lr.fit(X_train, y_train)\n",
    "\n",
    "    y_pred = lr.predict(X_val)\n",
    "    rmse = mean_squared_error(y_val, y_pred, squared=False)\n",
    "    mlflow.log_metric(\"rmse\", rmse)\n",
    "\n",
    "    mlflow.log_artifact(local_path=\"models/lin_reg.bin\", artifact_path=\"models_pickle\")"
   ]
  },
  {
   "cell_type": "code",
   "execution_count": null,
   "id": "49ed8cb6",
   "metadata": {},
   "outputs": [],
   "source": []
  }
 ],
 "metadata": {
  "kernelspec": {
   "display_name": "mlops-env",
   "language": "python",
   "name": "python3"
  },
  "language_info": {
   "codemirror_mode": {
    "name": "ipython",
    "version": 3
   },
   "file_extension": ".py",
   "mimetype": "text/x-python",
   "name": "python",
   "nbconvert_exporter": "python",
   "pygments_lexer": "ipython3",
   "version": "3.10.9"
  }
 },
 "nbformat": 4,
 "nbformat_minor": 5
}
