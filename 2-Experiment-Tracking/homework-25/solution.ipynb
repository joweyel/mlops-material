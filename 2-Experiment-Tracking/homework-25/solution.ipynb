{
 "cells": [
  {
   "cell_type": "markdown",
   "id": "18b40758",
   "metadata": {},
   "source": [
    "Create `virtualenv` for this section with this:\n",
    "```bash\n",
    "virtualenv hw1-env -p python3.9\n",
    "```\n",
    "Install `mlflow`:\n",
    "```bash\n",
    "source hw1-env/bin/activate\n",
    "pip install -r requirements.txt\n",
    "```\n",
    "Now select `hw1-env` as kernel in this Jupyter Notebook."
   ]
  },
  {
   "cell_type": "markdown",
   "id": "990350f9",
   "metadata": {},
   "source": [
    "## Q1. Install MLflow\n",
    "\n",
    "To get started with MLflow you'll need to install the MLflow Python package.\n",
    "\n",
    "For this we recommend creating a separate Python environment, for example, you can use [conda environments](https://docs.conda.io/projects/conda/en/latest/user-guide/getting-started.html#managing-envs), and then install the package there with `pip` or `conda`.\n",
    "\n",
    "Once you installed the package, run the command `mlflow --version` and check the output.\n",
    "\n",
    "What's the version that you have?\n"
   ]
  },
  {
   "cell_type": "code",
   "execution_count": 1,
   "id": "488b4468",
   "metadata": {},
   "outputs": [
    {
     "name": "stdout",
     "output_type": "stream",
     "text": [
      "mlflow, version 2.22.0\n"
     ]
    }
   ],
   "source": [
    "!mlflow --version"
   ]
  },
  {
   "cell_type": "markdown",
   "id": "833b9448",
   "metadata": {},
   "source": [
    "## Q2. Download and preprocess the data\n",
    "\n",
    "We'll use the Green Taxi Trip Records dataset to predict the duration of each trip. \n",
    "\n",
    "Download the data for January, February and March 2023 in parquet format from [here](https://www1.nyc.gov/site/tlc/about/tlc-trip-record-data.page).\n",
    "\n",
    "Use the script `preprocess_data.py` located in the folder [`homework`](homework) to preprocess the data.\n",
    "\n",
    "The script will:\n",
    "\n",
    "* load the data from the folder `<TAXI_DATA_FOLDER>` (the folder where you have downloaded the data),\n",
    "* fit a `DictVectorizer` on the training set (January 2023 data),\n",
    "* save the preprocessed datasets and the `DictVectorizer` to disk.\n",
    "\n",
    "Your task is to download the datasets and then execute this command:\n",
    "\n",
    "```bash\n",
    "python3 preprocess_data.py --raw_data_path <TAXI_DATA_FOLDER> --dest_path ./output\n",
    "```\n",
    "\n",
    "Tip: go to `02-experiment-tracking/homework/` folder before executing the command and change the value of `<TAXI_DATA_FOLDER>` to the location where you saved the data.\n",
    "\n",
    "How many files were saved to `OUTPUT_FOLDER`?\n",
    "\n",
    "* 1\n",
    "* 3\n",
    "* 4\n",
    "* 7"
   ]
  },
  {
   "cell_type": "code",
   "execution_count": 4,
   "id": "8707d129",
   "metadata": {},
   "outputs": [],
   "source": [
    "!mkdir -p data/\n",
    "\n",
    "!wget -qc https://d37ci6vzurychx.cloudfront.net/trip-data/green_tripdata_2023-01.parquet -O data/green_tripdata_2023-01.parquet\n",
    "!wget -qc https://d37ci6vzurychx.cloudfront.net/trip-data/green_tripdata_2023-02.parquet -O data/green_tripdata_2023-02.parquet\n",
    "!wget -qc https://d37ci6vzurychx.cloudfront.net/trip-data/green_tripdata_2023-03.parquet -O data/green_tripdata_2023-03.parquet"
   ]
  },
  {
   "cell_type": "code",
   "execution_count": 6,
   "id": "9256df45",
   "metadata": {},
   "outputs": [],
   "source": [
    "!python3 homework/preprocess_data.py --raw_data_path ./data --dest_path ./output"
   ]
  },
  {
   "cell_type": "code",
   "execution_count": 31,
   "id": "c5d2c4b1",
   "metadata": {},
   "outputs": [
    {
     "name": "stdout",
     "output_type": "stream",
     "text": [
      "dv.pkl\ttest.pkl  train.pkl  val.pkl\n",
      "4\n"
     ]
    }
   ],
   "source": [
    "!ls output/\n",
    "!ls output/ | wc -l "
   ]
  },
  {
   "cell_type": "markdown",
   "id": "aa247340",
   "metadata": {},
   "source": [
    "## Q3. Train a model with autolog\n",
    "\n",
    "We will train a `RandomForestRegressor` (from Scikit-Learn) on the taxi dataset.\n",
    "\n",
    "We have prepared the training script `train.py` for this exercise, which can be also found in the folder [`homework`](homework). \n",
    "\n",
    "The script will:\n",
    "\n",
    "* load the datasets produced by the previous step,\n",
    "* train the model on the training set,\n",
    "* calculate the RMSE score on the validation set.\n",
    "\n",
    "Your task is to modify the script to enable **autologging** with MLflow, execute the script and then launch the MLflow UI to check that the experiment run was properly tracked. \n",
    "\n",
    "Tip 1: don't forget to wrap the training code with a `with mlflow.start_run():` statement as we showed in the videos.\n",
    "\n",
    "Tip 2: don't modify the hyperparameters of the model to make sure that the training will finish quickly.\n",
    "\n",
    "What is the value of the `min_samples_split` parameter:\n",
    "\n",
    "* 2\n",
    "* 4\n",
    "* 8\n",
    "* 10"
   ]
  },
  {
   "cell_type": "markdown",
   "id": "3f9ff75f",
   "metadata": {},
   "source": [
    "Start mlflow with this command:\n",
    "```bash\n",
    "mlflow server -h 0.0.0.0 -p 5000 --backend-store-uri sqlite:///mlflow.db\n",
    "```"
   ]
  },
  {
   "cell_type": "code",
   "execution_count": 27,
   "id": "eefd3089",
   "metadata": {},
   "outputs": [
    {
     "name": "stdout",
     "output_type": "stream",
     "text": [
      "2025/05/24 09:25:52 INFO mlflow.tracking.fluent: Experiment with name 'random-forest-train-exp' does not exist. Creating a new experiment.\n",
      "5.431162180141208\n"
     ]
    }
   ],
   "source": [
    "!python3 homework/train.py --data_path ./output"
   ]
  },
  {
   "cell_type": "markdown",
   "id": "35f6eb41",
   "metadata": {},
   "source": [
    "`min_samples_split = 2`"
   ]
  },
  {
   "cell_type": "markdown",
   "id": "24c6f127",
   "metadata": {},
   "source": [
    "## Q4. Launch the tracking server locally\n",
    "\n",
    "Now we want to manage the entire lifecycle of our ML model. In this step, you'll need to launch a tracking server. This way we will also have access to the model registry. \n",
    "\n",
    "Your task is to:\n",
    "\n",
    "* launch the tracking server on your local machine,\n",
    "* select a SQLite db for the backend store and a folder called `artifacts` for the artifacts store.\n",
    "\n",
    "You should keep the tracking server running to work on the next two exercises that use the server.\n",
    "\n",
    "In addition to `backend-store-uri`, what else do you need to pass to properly configure the server?\n",
    "\n",
    "* `default-artifact-root`\n",
    "* `serve-artifacts`\n",
    "* `artifacts-only`\n",
    "* `artifacts-destination`"
   ]
  },
  {
   "cell_type": "markdown",
   "id": "1fc98a0d",
   "metadata": {},
   "source": [
    "Full command:\n",
    "```bash\n",
    "mlflow server -h 0.0.0.0 -p 5000 --backend-store-uri sqlite:///mlflow.db --default-artifact-root artifacts\n",
    "```"
   ]
  },
  {
   "cell_type": "markdown",
   "id": "75d75c1c",
   "metadata": {},
   "source": [
    "\n",
    "## Q5. Tune model hyperparameters\n",
    "\n",
    "Now let's try to reduce the validation error by tuning the hyperparameters of the `RandomForestRegressor` using `hyperopt`. \n",
    "We have prepared the script `hpo.py` for this exercise. \n",
    "\n",
    "Your task is to modify the script `hpo.py` and make sure that the validation RMSE is logged to the tracking server for each run of the hyperparameter optimization (you will need to add a few lines of code to the `objective` function) and run the script without passing any parameters.\n",
    "\n",
    "After that, open UI and explore the runs from the experiment called `random-forest-hyperopt` to answer the question below.\n",
    "\n",
    "Note: Don't use autologging for this exercise.\n",
    "\n",
    "The idea is to just log the information that you need to answer the question below, including:\n",
    "\n",
    "* the list of hyperparameters that are passed to the `objective` function during the optimization,\n",
    "* the RMSE obtained on the validation set (February 2023 data).\n",
    "\n",
    "What's the best validation RMSE that you got?\n",
    "\n",
    "* 4.817\n",
    "* 5.335\n",
    "* 5.818\n",
    "* 6.336\n"
   ]
  },
  {
   "cell_type": "code",
   "execution_count": null,
   "id": "7ca850b1",
   "metadata": {},
   "outputs": [
    {
     "name": "stdout",
     "output_type": "stream",
     "text": [
      "2025/05/24 09:40:23 INFO mlflow.tracking.fluent: Experiment with name 'random-forest-hyperopt' does not exist. Creating a new experiment.\n",
      "🏃 View run delicate-kite-985 at: http://127.0.0.1:5000/#/experiments/2/runs/e7c9133a2cad4fa6aba3fef23f7323ce\n",
      "\n",
      "🧪 View experiment at: http://127.0.0.1:5000/#/experiments/2                    \n",
      "\n",
      "🏃 View run delightful-doe-172 at: http://127.0.0.1:5000/#/experiments/2/runs/6215e2276fda45588c487af8d0ee0c15\n",
      "\n",
      "🧪 View experiment at: http://127.0.0.1:5000/#/experiments/2                    \n",
      "\n",
      "🏃 View run colorful-fox-491 at: http://127.0.0.1:5000/#/experiments/2/runs/15db3aa92aaa4d20a83166042df011e7\n",
      "\n",
      "🧪 View experiment at: http://127.0.0.1:5000/#/experiments/2                    \n",
      "\n",
      "🏃 View run rare-mule-614 at: http://127.0.0.1:5000/#/experiments/2/runs/9dcd104940ef41479f70ba24b48ade4a\n",
      "\n",
      "🧪 View experiment at: http://127.0.0.1:5000/#/experiments/2                    \n",
      "\n",
      "🏃 View run valuable-jay-849 at: http://127.0.0.1:5000/#/experiments/2/runs/d6d806ad1a82476689689d9fc9ab22ef\n",
      "\n",
      "🧪 View experiment at: http://127.0.0.1:5000/#/experiments/2                    \n",
      "\n",
      "🏃 View run spiffy-fowl-248 at: http://127.0.0.1:5000/#/experiments/2/runs/2534c5bcd1ce42f9b3c7109d6cf2f07c\n",
      "\n",
      "🧪 View experiment at: http://127.0.0.1:5000/#/experiments/2                    \n",
      "\n",
      "🏃 View run caring-sheep-593 at: http://127.0.0.1:5000/#/experiments/2/runs/8506cea8428e4be9a6da7e9b32f20460\n",
      "\n",
      "🧪 View experiment at: http://127.0.0.1:5000/#/experiments/2                    \n",
      "\n",
      "🏃 View run secretive-crane-44 at: http://127.0.0.1:5000/#/experiments/2/runs/5bc0d13233194235aa52cfa30e049ae6\n",
      "\n",
      "🧪 View experiment at: http://127.0.0.1:5000/#/experiments/2                    \n",
      "\n",
      "🏃 View run rumbling-toad-206 at: http://127.0.0.1:5000/#/experiments/2/runs/18b8a956e42148248daf4fe01a057922\n",
      "\n",
      "🧪 View experiment at: http://127.0.0.1:5000/#/experiments/2                    \n",
      "\n",
      "🏃 View run judicious-yak-530 at: http://127.0.0.1:5000/#/experiments/2/runs/b47bc8f428654bc0ae117d71c66bc429\n",
      "\n",
      "🧪 View experiment at: http://127.0.0.1:5000/#/experiments/2                    \n",
      "\n",
      "🏃 View run handsome-yak-328 at: http://127.0.0.1:5000/#/experiments/2/runs/a9eb5fd158184433aff6d62b0c531edd\n",
      "\n",
      "🧪 View experiment at: http://127.0.0.1:5000/#/experiments/2                    \n",
      "\n",
      "🏃 View run bald-hen-765 at: http://127.0.0.1:5000/#/experiments/2/runs/5e008f948eb04d64be9c222763bc65e4\n",
      "\n",
      "🧪 View experiment at: http://127.0.0.1:5000/#/experiments/2                    \n",
      "\n",
      "🏃 View run receptive-dove-838 at: http://127.0.0.1:5000/#/experiments/2/runs/50f62918675c45d69bf0ea9258afc4ea\n",
      "\n",
      "🧪 View experiment at: http://127.0.0.1:5000/#/experiments/2                    \n",
      "\n",
      "🏃 View run suave-crab-626 at: http://127.0.0.1:5000/#/experiments/2/runs/63ee1a52893e460d88f39e62c2f15af5\n",
      "\n",
      "🧪 View experiment at: http://127.0.0.1:5000/#/experiments/2                    \n",
      "\n",
      "🏃 View run powerful-dolphin-376 at: http://127.0.0.1:5000/#/experiments/2/runs/118b763eb1fb49a1911f03705bc96bc7\n",
      "\n",
      "🧪 View experiment at: http://127.0.0.1:5000/#/experiments/2                    \n",
      "\n",
      "100%|██████████| 15/15 [03:17<00:00, 13.16s/trial, best loss: 5.335419588556921]\n"
     ]
    }
   ],
   "source": [
    "!python3 homework/hpo.py"
   ]
  },
  {
   "cell_type": "markdown",
   "id": "a6b0472a",
   "metadata": {},
   "source": [
    "`RMSE`: 5.335 (5.335419588556921) "
   ]
  },
  {
   "cell_type": "markdown",
   "id": "1875e30d",
   "metadata": {},
   "source": [
    "## Q6. Promote the best model to the model registry\n",
    "\n",
    "The results from the hyperparameter optimization are quite good. So, we can assume that we are ready to test some of these models in production. \n",
    "In this exercise, you'll promote the best model to the model registry. We have prepared a script called `register_model.py`, which will check the results from the previous step and select the top 5 runs. \n",
    "After that, it will calculate the RMSE of those models on the test set (March 2023 data) and save the results to a new experiment called `random-forest-best-models`.\n",
    "\n",
    "Your task is to update the script `register_model.py` so that it selects the model with the lowest RMSE on the test set and registers it to the model registry.\n",
    "\n",
    "Tip 1: you can use the method `search_runs` from the `MlflowClient` to get the model with the lowest RMSE,\n",
    "\n",
    "Tip 2: to register the model you can use the method `mlflow.register_model` and you will need to pass the right `model_uri` in the form of a string that looks like this: `\"runs:/<RUN_ID>/model\"`, and the name of the model (make sure to choose a good one!).\n",
    "\n",
    "What is the test RMSE of the best model?\n",
    "\n",
    "* 5.060\n",
    "* 5.567\n",
    "* 6.061\n",
    "* 6.568"
   ]
  },
  {
   "cell_type": "code",
   "execution_count": 29,
   "id": "f7860687",
   "metadata": {},
   "outputs": [
    {
     "name": "stdout",
     "output_type": "stream",
     "text": [
      "2025/05/24 09:54:46 INFO mlflow.tracking.fluent: Experiment with name 'random-forest-best-models' does not exist. Creating a new experiment.\n",
      "🏃 View run honorable-flea-994 at: http://127.0.0.1:5000/#/experiments/3/runs/c4ab4d1ec5e040af926ea4f9ca08f7ca\n",
      "🧪 View experiment at: http://127.0.0.1:5000/#/experiments/3\n",
      "🏃 View run loud-hen-366 at: http://127.0.0.1:5000/#/experiments/3/runs/5851a33d18f64658b89036000a2a5af0\n",
      "🧪 View experiment at: http://127.0.0.1:5000/#/experiments/3\n",
      "🏃 View run likeable-fly-620 at: http://127.0.0.1:5000/#/experiments/3/runs/10d248f89e5a49cc8ac2e8cba52afd79\n",
      "🧪 View experiment at: http://127.0.0.1:5000/#/experiments/3\n",
      "🏃 View run abrasive-mare-129 at: http://127.0.0.1:5000/#/experiments/3/runs/23d6c6878a374b14a332d532495aa9a6\n",
      "🧪 View experiment at: http://127.0.0.1:5000/#/experiments/3\n",
      "🏃 View run vaunted-cub-424 at: http://127.0.0.1:5000/#/experiments/3/runs/6ba246c67ea541919effdb2beb47d411\n",
      "🧪 View experiment at: http://127.0.0.1:5000/#/experiments/3\n",
      "Successfully registered model 'random-forest-best-model'.\n",
      "2025/05/24 09:58:15 INFO mlflow.store.model_registry.abstract_store: Waiting up to 300 seconds for model version to finish creation. Model name: random-forest-best-model, version 1\n",
      "Created version '1' of model 'random-forest-best-model'.\n"
     ]
    }
   ],
   "source": [
    "!python3 homework/register_model.py"
   ]
  },
  {
   "cell_type": "markdown",
   "id": "9f6d5d9e",
   "metadata": {},
   "source": [
    "`RMSE`: 5.567 (5.567408012462019)"
   ]
  }
 ],
 "metadata": {
  "kernelspec": {
   "display_name": "experiment-tracking-env",
   "language": "python",
   "name": "python3"
  },
  "language_info": {
   "codemirror_mode": {
    "name": "ipython",
    "version": 3
   },
   "file_extension": ".py",
   "mimetype": "text/x-python",
   "name": "python",
   "nbconvert_exporter": "python",
   "pygments_lexer": "ipython3",
   "version": "3.9.22"
  }
 },
 "nbformat": 4,
 "nbformat_minor": 5
}
