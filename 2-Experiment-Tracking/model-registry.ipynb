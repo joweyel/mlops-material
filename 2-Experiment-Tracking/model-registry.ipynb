{
 "cells": [
  {
   "attachments": {},
   "cell_type": "markdown",
   "id": "11f85ac1",
   "metadata": {},
   "source": [
    "#  Using the MLflow-API in Jupyter Notebook"
   ]
  },
  {
   "cell_type": "code",
   "execution_count": 39,
   "id": "ec4ec1ec",
   "metadata": {},
   "outputs": [],
   "source": [
    "from mlflow.tracking import MlflowClient\n",
    "\n",
    "MLFLOW_TRACKING_URI = \"sqlite:///mlflow.db\"\n",
    "\n",
    "client = MlflowClient(tracking_uri=MLFLOW_TRACKING_URI)"
   ]
  },
  {
   "cell_type": "code",
   "execution_count": null,
   "id": "ec98a4a3",
   "metadata": {},
   "outputs": [],
   "source": [
    "client.search_experiments()"
   ]
  },
  {
   "attachments": {},
   "cell_type": "markdown",
   "id": "2c5d087e",
   "metadata": {},
   "source": [
    "## Creates new experiment that can be seen in the UI window"
   ]
  },
  {
   "cell_type": "code",
   "execution_count": 5,
   "id": "a3bdb68a",
   "metadata": {},
   "outputs": [
    {
     "data": {
      "text/plain": [
       "'2'"
      ]
     },
     "execution_count": 5,
     "metadata": {},
     "output_type": "execute_result"
    }
   ],
   "source": [
    "client.create_experiment(name=\"my-cool-experiment\")"
   ]
  },
  {
   "attachments": {},
   "cell_type": "markdown",
   "id": "ee35a1a2",
   "metadata": {},
   "source": [
    "## Finding the best runs of an experiment"
   ]
  },
  {
   "cell_type": "code",
   "execution_count": 6,
   "id": "56802cef",
   "metadata": {},
   "outputs": [],
   "source": [
    "from mlflow.entities import ViewType"
   ]
  },
  {
   "cell_type": "code",
   "execution_count": 11,
   "id": "e25e531d",
   "metadata": {},
   "outputs": [],
   "source": [
    "runs = client.search_runs(\n",
    "    experiment_ids=\"1\",  # specify experiment\n",
    "    filter_string=\"metrics.rmse < 6.8\", # get only certain runs (no filtering if \"\")\n",
    "    run_view_type=ViewType.ACTIVE_ONLY,\n",
    "    max_results=5,\n",
    "    order_by=[\"metrics.rmse ASC\"]\n",
    ")"
   ]
  },
  {
   "cell_type": "code",
   "execution_count": 12,
   "id": "8dd620ba",
   "metadata": {},
   "outputs": [
    {
     "name": "stdout",
     "output_type": "stream",
     "text": [
      "run id: c96613bfe29f4522a8a46179f04e2681, rmse: 6.3032\n",
      "run id: 8a204fd78a4248869787181306cda116, rmse: 6.3032\n",
      "run id: a8beaa704725443db702c63ffc026972, rmse: 6.3032\n",
      "run id: cdc3ef7c7d044b17b51d3dcd4bed5f9b, rmse: 6.3032\n",
      "run id: 6c4492d3bb52417da4478cb0ff607b02, rmse: 6.3032\n"
     ]
    }
   ],
   "source": [
    "for run in runs:\n",
    "    print(f\"run id: {run.info.run_id}, rmse: {run.data.metrics['rmse']:.4f}\")"
   ]
  },
  {
   "attachments": {},
   "cell_type": "markdown",
   "id": "08a5798f",
   "metadata": {},
   "source": [
    "## Promote Models to the Model Regristry"
   ]
  },
  {
   "cell_type": "code",
   "execution_count": 13,
   "id": "63812276",
   "metadata": {},
   "outputs": [],
   "source": [
    "import mlflow\n",
    "mlflow.set_tracking_uri(MLFLOW_TRACKING_URI)"
   ]
  },
  {
   "cell_type": "code",
   "execution_count": null,
   "id": "1148b6f1",
   "metadata": {},
   "outputs": [],
   "source": [
    "run_id = \"c96613bfe29f4522a8a46179f04e2681\"\n",
    "model_uri = f\"runs:/{run_id}/model\"\n",
    "mlflow.register_model(model_uri=model_uri, name=\"nyc-taxi-regressor\")"
   ]
  },
  {
   "cell_type": "code",
   "execution_count": 16,
   "id": "041c4688",
   "metadata": {},
   "outputs": [
    {
     "name": "stdout",
     "output_type": "stream",
     "text": [
      "runs:/c96613bfe29f4522a8a46179f04e2681/model\n"
     ]
    }
   ],
   "source": [
    "print(model_uri)"
   ]
  },
  {
   "attachments": {},
   "cell_type": "markdown",
   "id": "321f641b",
   "metadata": {},
   "source": [
    "On the model registry should now be a 3rd version of the model."
   ]
  },
  {
   "attachments": {},
   "cell_type": "markdown",
   "id": "e5d9e820",
   "metadata": {},
   "source": [
    "## Transitioning a model from one stage to another"
   ]
  },
  {
   "cell_type": "code",
   "execution_count": 18,
   "id": "388b6605",
   "metadata": {},
   "outputs": [
    {
     "data": {
      "text/plain": [
       "[<RegisteredModel: aliases={}, creation_timestamp=1686307016827, description='', last_updated_timestamp=1686308924679, latest_versions=[<ModelVersion: aliases=[], creation_timestamp=1686307249108, current_stage='Staging', description='', last_updated_timestamp=1686307689630, name='nyc-taxi-regressor', run_id='8a204fd78a4248869787181306cda116', run_link='', source='/media/userl/Ubuntu-DataStora/Learning/MLOps_Zoomcamp/mlops-material/2-Experiment-Tracking/mlruns/1/8a204fd78a4248869787181306cda116/artifacts/models_mlflow', status='READY', status_message=None, tags={}, user_id=None, version=2>,\n",
       "  <ModelVersion: aliases=[], creation_timestamp=1686308924679, current_stage='None', description=None, last_updated_timestamp=1686308924679, name='nyc-taxi-regressor', run_id='c96613bfe29f4522a8a46179f04e2681', run_link=None, source='/media/userl/Ubuntu-DataStora/Learning/MLOps_Zoomcamp/mlops-material/2-Experiment-Tracking/mlruns/1/c96613bfe29f4522a8a46179f04e2681/artifacts/model', status='READY', status_message=None, tags={}, user_id=None, version=3>], name='nyc-taxi-regressor', tags={'model': 'xgboost'}>]"
      ]
     },
     "execution_count": 18,
     "metadata": {},
     "output_type": "execute_result"
    }
   ],
   "source": [
    "# Listing registered models\n",
    "client.search_registered_models()"
   ]
  },
  {
   "attachments": {},
   "cell_type": "markdown",
   "id": "dbb5e759",
   "metadata": {},
   "source": [
    "Get the newest version of a particular model:"
   ]
  },
  {
   "cell_type": "code",
   "execution_count": 22,
   "id": "d7b99734",
   "metadata": {},
   "outputs": [
    {
     "name": "stdout",
     "output_type": "stream",
     "text": [
      "version: 2, stage: Staging\n",
      "version: 3, stage: None\n"
     ]
    }
   ],
   "source": [
    "model_name = \"nyc-taxi-regressor\"\n",
    "latest_versions = client.get_latest_versions(name=model_name)\n",
    "\n",
    "# Listing info about model versions\n",
    "for version in latest_versions:\n",
    "    print(f\"version: {version.version}, stage: {version.current_stage}\")"
   ]
  },
  {
   "cell_type": "code",
   "execution_count": null,
   "id": "cd30af39",
   "metadata": {},
   "outputs": [],
   "source": [
    "model_version = 3\n",
    "new_stage = \"Staging\"\n",
    "\n",
    "client.transition_model_version_stage(\n",
    "    name=model_name,\n",
    "    version=model_version,\n",
    "    stage=new_stage,\n",
    "    archive_existing_versions=False\n",
    ")"
   ]
  },
  {
   "attachments": {},
   "cell_type": "markdown",
   "id": "fde80d39",
   "metadata": {},
   "source": [
    "Now look at the UI and the 3rd model version should be in the state `Staging`."
   ]
  },
  {
   "attachments": {},
   "cell_type": "markdown",
   "id": "a7584eb8",
   "metadata": {},
   "source": [
    "### Updating model version (changing information)"
   ]
  },
  {
   "cell_type": "code",
   "execution_count": null,
   "id": "43179318",
   "metadata": {},
   "outputs": [],
   "source": [
    "from datetime import datetime\n",
    "\n",
    "date = datetime.today()\n",
    "\n",
    "client.update_model_version(\n",
    "    name=model_name,\n",
    "    version=model_version,\n",
    "    description=f\"The model verseion {model_version} was transitioned to {new_stage} on {date}\"\n",
    ")"
   ]
  },
  {
   "attachments": {},
   "cell_type": "markdown",
   "id": "a621e727",
   "metadata": {},
   "source": [
    "Again look into the model-registry to see the changes."
   ]
  },
  {
   "attachments": {},
   "cell_type": "markdown",
   "id": "f02c1e47",
   "metadata": {},
   "source": [
    "### Example Code"
   ]
  },
  {
   "cell_type": "code",
   "execution_count": 54,
   "id": "fd157823",
   "metadata": {},
   "outputs": [],
   "source": [
    "from sklearn.metrics import mean_squared_error as MSE\n",
    "import pandas as pd\n",
    "\n",
    "def read_dataframe(filename):\n",
    "    df = pd.read_parquet(filename)\n",
    "\n",
    "    if \"2021\" in filename:\n",
    "        dropoff_datetime = \"lpep_dropoff_datetime\"\n",
    "        pickup_datetime = \"lpep_pickup_datetime\"\n",
    "    elif \"2022\" in filename:\n",
    "        dropoff_datetime = \"tpep_dropoff_datetime\"\n",
    "        pickup_datetime = \"tpep_pickup_datetime\"\n",
    "    else:\n",
    "        raise ValueError(\"Invalid dataset\")\n",
    "    \n",
    "    df[dropoff_datetime] = pd.to_datetime(df[dropoff_datetime])\n",
    "    df[pickup_datetime] = pd.to_datetime(df[pickup_datetime])\n",
    "\n",
    "    # create duration-column\n",
    "    df[\"duration\"] = df[dropoff_datetime] - df[pickup_datetime]\n",
    "    df[\"duration\"] = df[\"duration\"].dt.total_seconds() / 60\n",
    "\n",
    "    # remove outliers\n",
    "    df = df[(df[\"duration\"] >= 1) & (df[\"duration\"] <= 60)].copy()\n",
    "\n",
    "    # convert categorical features to strings (to get 1-hot encoding)\n",
    "    categorical = [\"PULocationID\", \"DOLocationID\"]\n",
    "    df[categorical] = df[categorical].astype(str)\n",
    "\n",
    "    return df\n",
    "\n",
    "def preprocess(df, dv):\n",
    "    df[\"PU_DO\"] = df[\"PULocationID\"] + \"_\" + df[\"DOLocationID\"]\n",
    "    categorical = [\"PU_DO\"]\n",
    "    numerical = [\"trip_distance\"]\n",
    "    train_dicts = df[categorical + numerical].to_dict(orient=\"records\")\n",
    "    return dv.transform(train_dicts)\n",
    "\n",
    "def test_model(name, stage, X_test, y_test):\n",
    "    model = mlflow.pyfunc.load_model(f\"models:/{name}/{stage}\")\n",
    "    y_pred = model.predict(X_test)\n",
    "    return { \"rmse\": MSE(y_test, y_pred, squared=False) }"
   ]
  },
  {
   "cell_type": "code",
   "execution_count": 50,
   "id": "72820d29",
   "metadata": {},
   "outputs": [],
   "source": [
    "# get the data\n",
    "df = read_dataframe(\"data/green_tripdata_2021-01.parquet\")"
   ]
  },
  {
   "cell_type": "code",
   "execution_count": null,
   "id": "c31ced40",
   "metadata": {},
   "outputs": [],
   "source": [
    "# get the preprocessor from the model\n",
    "client.download_artifacts(run_id=run_id, path=\"preprocessor\", dst_path=\".\")"
   ]
  },
  {
   "cell_type": "code",
   "execution_count": 31,
   "id": "7d39aa9f",
   "metadata": {},
   "outputs": [],
   "source": [
    "import pickle\n",
    "with open(\"preprocessor/preprocessor.b\", \"rb\") as f_in:\n",
    "    dv = pickle.load(f_in)"
   ]
  },
  {
   "cell_type": "code",
   "execution_count": 32,
   "id": "bc77dbbc",
   "metadata": {},
   "outputs": [],
   "source": [
    "X_test = preprocess(df, dv)"
   ]
  },
  {
   "cell_type": "code",
   "execution_count": 36,
   "id": "67e1587d",
   "metadata": {},
   "outputs": [],
   "source": [
    "target = \"duration\"\n",
    "y_test = df[target].values"
   ]
  },
  {
   "cell_type": "code",
   "execution_count": 55,
   "id": "92cd94f6",
   "metadata": {},
   "outputs": [
    {
     "name": "stderr",
     "output_type": "stream",
     "text": [
      "2023/06/09 14:23:34 WARNING mlflow.pyfunc: Detected one or more mismatches between the model's dependencies and the current Python environment:\n",
      " - mlflow (current: 2.3.2, required: mlflow==2.3)\n",
      "To fix the mismatches, call `mlflow.pyfunc.get_model_dependencies(model_uri)` to fetch the model's environment and install dependencies using the resulting environment file.\n"
     ]
    },
    {
     "name": "stdout",
     "output_type": "stream",
     "text": [
      "[14:23:34] WARNING: ../src/objective/regression_obj.cu:213: reg:linear is now deprecated in favor of reg:squarederror.\n",
      "CPU times: user 5.74 s, sys: 6.93 ms, total: 5.75 s\n",
      "Wall time: 1.2 s\n"
     ]
    },
    {
     "data": {
      "text/plain": [
       "{'rmse': 4.136594651260994}"
      ]
     },
     "execution_count": 55,
     "metadata": {},
     "output_type": "execute_result"
    }
   ],
   "source": [
    "%time test_model(name=model_name, stage=\"Production\", X_test=X_test, y_test=y_test)"
   ]
  },
  {
   "cell_type": "code",
   "execution_count": 57,
   "id": "8d752e56",
   "metadata": {},
   "outputs": [
    {
     "name": "stderr",
     "output_type": "stream",
     "text": [
      "2023/06/09 14:24:28 WARNING mlflow.pyfunc: Detected one or more mismatches between the model's dependencies and the current Python environment:\n",
      " - mlflow (current: 2.3.2, required: mlflow==2.3)\n",
      "To fix the mismatches, call `mlflow.pyfunc.get_model_dependencies(model_uri)` to fetch the model's environment and install dependencies using the resulting environment file.\n"
     ]
    },
    {
     "name": "stdout",
     "output_type": "stream",
     "text": [
      "[14:24:28] WARNING: ../src/objective/regression_obj.cu:213: reg:linear is now deprecated in favor of reg:squarederror.\n",
      "CPU times: user 5.6 s, sys: 12.5 ms, total: 5.61 s\n",
      "Wall time: 1.14 s\n"
     ]
    },
    {
     "data": {
      "text/plain": [
       "{'rmse': 4.136594651260994}"
      ]
     },
     "execution_count": 57,
     "metadata": {},
     "output_type": "execute_result"
    }
   ],
   "source": [
    "%time test_model(name=model_name, stage=\"Staging\", X_test=X_test, y_test=y_test)"
   ]
  },
  {
   "cell_type": "code",
   "execution_count": 58,
   "id": "a6df8b20",
   "metadata": {},
   "outputs": [
    {
     "data": {
      "text/plain": [
       "<ModelVersion: aliases=[], creation_timestamp=1686308924679, current_stage='Production', description='The model verseion 3 was transitioned to Staging on 2023-06-09 13:19:44.267008', last_updated_timestamp=1686313543568, name='nyc-taxi-regressor', run_id='c96613bfe29f4522a8a46179f04e2681', run_link=None, source='/media/userl/Ubuntu-DataStora/Learning/MLOps_Zoomcamp/mlops-material/2-Experiment-Tracking/mlruns/1/c96613bfe29f4522a8a46179f04e2681/artifacts/model', status='READY', status_message=None, tags={}, user_id=None, version=3>"
      ]
     },
     "execution_count": 58,
     "metadata": {},
     "output_type": "execute_result"
    }
   ],
   "source": [
    "client.transition_model_version_stage(\n",
    "    name=model_name,\n",
    "    version=3,\n",
    "    stage=\"Production\",\n",
    "    archive_existing_versions=True\n",
    ")"
   ]
  }
 ],
 "metadata": {
  "kernelspec": {
   "display_name": "exp-tracking-env",
   "language": "python",
   "name": "python3"
  },
  "language_info": {
   "codemirror_mode": {
    "name": "ipython",
    "version": 3
   },
   "file_extension": ".py",
   "mimetype": "text/x-python",
   "name": "python",
   "nbconvert_exporter": "python",
   "pygments_lexer": "ipython3",
   "version": "3.9.16"
  }
 },
 "nbformat": 4,
 "nbformat_minor": 5
}
