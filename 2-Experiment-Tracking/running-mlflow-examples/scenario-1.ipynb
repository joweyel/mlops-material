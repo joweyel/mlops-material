{
 "cells": [
  {
   "attachments": {},
   "cell_type": "markdown",
   "id": "2e553458",
   "metadata": {},
   "source": [
    "# Scenario 1: A single data scientist participating in an ML competition"
   ]
  },
  {
   "attachments": {},
   "cell_type": "markdown",
   "id": "9d0a2908",
   "metadata": {},
   "source": [
    "MLflow setup:\n",
    "| **`Tracking server`**   |        no        |\n",
    "| :---------------------: | :--------------: | \n",
    "| **`Backend store`**     | local filesystem |\n",
    "| **`Artifact store`**    | local filesystem |"
   ]
  },
  {
   "attachments": {},
   "cell_type": "markdown",
   "id": "afa6436b",
   "metadata": {},
   "source": [
    "The experiments can be explored locally by launching the MLFlow UI."
   ]
  },
  {
   "cell_type": "code",
   "execution_count": 26,
   "id": "ba2b1d48",
   "metadata": {},
   "outputs": [],
   "source": [
    "import mlflow\n",
    "\n",
    "# No Tracking URI is specified.\n",
    "# MLflow assumes that you use the local file system,\n",
    "# to save all reults."
   ]
  },
  {
   "cell_type": "code",
   "execution_count": 30,
   "id": "eca12ad7",
   "metadata": {},
   "outputs": [
    {
     "name": "stdout",
     "output_type": "stream",
     "text": [
      "tracking-URI: 'file:///media/userl/Ubuntu-DataStora/Learning/MLOps_Zoomcamp/mlops-material/2-Experiment-Tracking/running-mlflow-examples/mlruns'\n"
     ]
    }
   ],
   "source": [
    "print(f\"tracking-URI: '{mlflow.get_tracking_uri()}'\")"
   ]
  },
  {
   "cell_type": "code",
   "execution_count": 31,
   "id": "2b32354c",
   "metadata": {},
   "outputs": [
    {
     "data": {
      "text/plain": [
       "[<Experiment: artifact_location='mlflow-artifacts:/0', creation_time=1686315939243, experiment_id='0', last_update_time=1686315939243, lifecycle_stage='active', name='Default', tags={}>]"
      ]
     },
     "execution_count": 31,
     "metadata": {},
     "output_type": "execute_result"
    }
   ],
   "source": [
    "mlflow.search_experiments()"
   ]
  },
  {
   "attachments": {},
   "cell_type": "markdown",
   "id": "6174c0f4",
   "metadata": {},
   "source": [
    "**Code for training a Logistic Regression Model**"
   ]
  },
  {
   "cell_type": "code",
   "execution_count": 32,
   "id": "e097acfd",
   "metadata": {},
   "outputs": [
    {
     "name": "stderr",
     "output_type": "stream",
     "text": [
      "2023/06/09 15:05:52 INFO mlflow.tracking.fluent: Experiment with name 'my-experiment-1' does not exist. Creating a new experiment.\n"
     ]
    },
    {
     "name": "stdout",
     "output_type": "stream",
     "text": [
      "default artifacts URI: 'file:///media/userl/Ubuntu-DataStora/Learning/MLOps_Zoomcamp/mlops-material/2-Experiment-Tracking/running-mlflow-examples/mlruns/271584505744283658/51171ccc505d451799377645c5d6bce3/artifacts'\n"
     ]
    }
   ],
   "source": [
    "from sklearn.linear_model import LogisticRegression\n",
    "from sklearn.datasets import load_iris\n",
    "from sklearn.metrics import accuracy_score\n",
    "\n",
    "mlflow.set_experiment(\"my-experiment-1\")\n",
    "\n",
    "with mlflow.start_run():\n",
    "    X, y = load_iris(return_X_y=True)\n",
    "    params = { \"C\": 0.1, \"random_state\": 42 }\n",
    "    mlflow.log_params(params)\n",
    "\n",
    "    lr = LogisticRegression(**params).fit(X, y)\n",
    "    y_pred = lr.predict(X)\n",
    "    mlflow.log_metric(\"accuracy\", accuracy_score(y, y_pred))\n",
    "\n",
    "    mlflow.sklearn.log_model(lr, artifact_path=\"models\")\n",
    "    print(f\"default artifacts URI: '{mlflow.get_artifact_uri()}'\")\n"
   ]
  },
  {
   "cell_type": "code",
   "execution_count": 33,
   "id": "e55f1dd9",
   "metadata": {},
   "outputs": [
    {
     "data": {
      "text/plain": [
       "[<Experiment: artifact_location='file:///media/userl/Ubuntu-DataStora/Learning/MLOps_Zoomcamp/mlops-material/2-Experiment-Tracking/running-mlflow-examples/mlruns/271584505744283658', creation_time=1686315952114, experiment_id='271584505744283658', last_update_time=1686315952114, lifecycle_stage='active', name='my-experiment-1', tags={}>,\n",
       " <Experiment: artifact_location='mlflow-artifacts:/0', creation_time=1686315939243, experiment_id='0', last_update_time=1686315939243, lifecycle_stage='active', name='Default', tags={}>]"
      ]
     },
     "execution_count": 33,
     "metadata": {},
     "output_type": "execute_result"
    }
   ],
   "source": [
    "mlflow.search_experiments()"
   ]
  },
  {
   "attachments": {},
   "cell_type": "markdown",
   "id": "9e6b7dbb",
   "metadata": {},
   "source": [
    "## Interacting with the Model Registry"
   ]
  },
  {
   "cell_type": "code",
   "execution_count": 34,
   "id": "17d40d7b",
   "metadata": {},
   "outputs": [],
   "source": [
    "from mlflow.tracking import MlflowClient\n",
    "\n",
    "client = MlflowClient()"
   ]
  },
  {
   "cell_type": "code",
   "execution_count": null,
   "id": "d62fe024",
   "metadata": {},
   "outputs": [],
   "source": [
    "from mlflow.exceptions import MlflowException\n",
    "\n",
    "try:\n",
    "    client.search_registered_models()\n",
    "except MlflowException:\n",
    "    print(\"It's not possible to access the model registery :'(\")"
   ]
  }
 ],
 "metadata": {
  "kernelspec": {
   "display_name": "exp-tracking-env",
   "language": "python",
   "name": "python3"
  },
  "language_info": {
   "codemirror_mode": {
    "name": "ipython",
    "version": 3
   },
   "file_extension": ".py",
   "mimetype": "text/x-python",
   "name": "python",
   "nbconvert_exporter": "python",
   "pygments_lexer": "ipython3",
   "version": "3.9.16"
  }
 },
 "nbformat": 4,
 "nbformat_minor": 5
}
