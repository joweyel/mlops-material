{
 "cells": [
  {
   "attachments": {},
   "cell_type": "markdown",
   "id": "4d91d4ac",
   "metadata": {},
   "source": [
    "# Scenario 2: A cross-functional team with one data scientist working on an ML model"
   ]
  },
  {
   "attachments": {},
   "cell_type": "markdown",
   "id": "28c3dd8e",
   "metadata": {},
   "source": [
    "MLflow setup:\n",
    "| **`Tracking server`**   | yes local server |\n",
    "| :---------------------: | :--------------: | \n",
    "| **`Backend store`**     | sqlite database  |\n",
    "| **`Artifact store`**    | local filesystem |"
   ]
  },
  {
   "attachments": {},
   "cell_type": "markdown",
   "id": "f019b7e4",
   "metadata": {},
   "source": [
    "The experiment can be explored locally by accessing the local tracing server."
   ]
  },
  {
   "attachments": {},
   "cell_type": "markdown",
   "id": "e35bccfb",
   "metadata": {},
   "source": [
    "To run this example you need to launch the `mlflow` server locally by running the following command in your terminal:\n",
    "\n",
    "```shell\n",
    "mlflow server --backend-store-uri sqlite:///backend.db\n",
    "```\n",
    "\n",
    "You can also add the parameter `--default-artifact-root <path>`"
   ]
  },
  {
   "cell_type": "code",
   "execution_count": 1,
   "id": "53abbd1a",
   "metadata": {},
   "outputs": [],
   "source": [
    "import mlflow\n",
    "\n",
    "# Connect after running the following command:\n",
    "# mlflow server --backend-store-uri sqlite:///backend.db --default-artifact-root ./artifacts_local\n",
    "mlflow.set_tracking_uri(\"http://127.0.0.1:5000\")"
   ]
  },
  {
   "cell_type": "code",
   "execution_count": 2,
   "id": "ba28ccdd",
   "metadata": {},
   "outputs": [
    {
     "name": "stdout",
     "output_type": "stream",
     "text": [
      "tracking-URI: 'http://127.0.0.1:5000'\n"
     ]
    }
   ],
   "source": [
    "print(f\"tracking-URI: '{mlflow.get_tracking_uri()}'\")"
   ]
  },
  {
   "cell_type": "code",
   "execution_count": 3,
   "id": "d204d5a6",
   "metadata": {},
   "outputs": [
    {
     "data": {
      "text/plain": [
       "[<Experiment: artifact_location='/home/user/GITs/Zoomcamps/MLOps/mlops-material/2-Experiment-Tracking/artifacts_local/0', creation_time=1748028881146, experiment_id='0', last_update_time=1748028881146, lifecycle_stage='active', name='Default', tags={}>]"
      ]
     },
     "execution_count": 3,
     "metadata": {},
     "output_type": "execute_result"
    }
   ],
   "source": [
    "mlflow.search_experiments()"
   ]
  },
  {
   "attachments": {},
   "cell_type": "markdown",
   "id": "d802a2bb",
   "metadata": {},
   "source": [
    "**Code for training a Logistic Regression Model**"
   ]
  },
  {
   "cell_type": "code",
   "execution_count": 4,
   "id": "b84259ab",
   "metadata": {},
   "outputs": [
    {
     "name": "stderr",
     "output_type": "stream",
     "text": [
      "2025/05/23 21:35:35 INFO mlflow.tracking.fluent: Experiment with name 'my-experiment-1' does not exist. Creating a new experiment.\n",
      "\u001b[31m2025/05/23 21:35:41 WARNING mlflow.models.model: Model logged without a signature and input example. Please set `input_example` parameter when logging the model to auto infer the model signature.\u001b[0m\n"
     ]
    },
    {
     "name": "stdout",
     "output_type": "stream",
     "text": [
      "default artifacts URI: '/home/user/GITs/Zoomcamps/MLOps/mlops-material/2-Experiment-Tracking/artifacts_local/1/14198976ee8c4b6c8e04ba6fc7d1c8ce/artifacts'\n",
      "🏃 View run delicate-steed-367 at: http://127.0.0.1:5000/#/experiments/1/runs/14198976ee8c4b6c8e04ba6fc7d1c8ce\n",
      "🧪 View experiment at: http://127.0.0.1:5000/#/experiments/1\n"
     ]
    }
   ],
   "source": [
    "from sklearn.linear_model import LogisticRegression\n",
    "from sklearn.datasets import load_iris\n",
    "from sklearn.metrics import accuracy_score\n",
    "\n",
    "mlflow.set_experiment(\"my-experiment-1\")\n",
    "\n",
    "with mlflow.start_run():\n",
    "    X, y = load_iris(return_X_y=True)\n",
    "    params = { \"C\": 0.1, \"random_state\": 42 }\n",
    "    mlflow.log_params(params)\n",
    "\n",
    "    lr = LogisticRegression(**params).fit(X, y)\n",
    "    y_pred = lr.predict(X)\n",
    "    mlflow.log_metric(\"accuracy\", accuracy_score(y, y_pred))\n",
    "\n",
    "    mlflow.sklearn.log_model(lr, artifact_path=\"models\")\n",
    "    print(f\"default artifacts URI: '{mlflow.get_artifact_uri()}'\")\n"
   ]
  },
  {
   "attachments": {},
   "cell_type": "markdown",
   "id": "56aedaaa",
   "metadata": {},
   "source": [
    "Metadata is now stored in the SQLite database instead of the local file system."
   ]
  },
  {
   "cell_type": "code",
   "execution_count": 7,
   "id": "39f78a72",
   "metadata": {},
   "outputs": [
    {
     "data": {
      "text/plain": [
       "[<Experiment: artifact_location='/home/user/GITs/Zoomcamps/MLOps/mlops-material/2-Experiment-Tracking/artifacts_local/1', creation_time=1748028935565, experiment_id='1', last_update_time=1748028935565, lifecycle_stage='active', name='my-experiment-1', tags={}>,\n",
       " <Experiment: artifact_location='/home/user/GITs/Zoomcamps/MLOps/mlops-material/2-Experiment-Tracking/artifacts_local/0', creation_time=1748028881146, experiment_id='0', last_update_time=1748028881146, lifecycle_stage='active', name='Default', tags={}>]"
      ]
     },
     "execution_count": 7,
     "metadata": {},
     "output_type": "execute_result"
    }
   ],
   "source": [
    "mlflow.search_experiments()"
   ]
  },
  {
   "attachments": {},
   "cell_type": "markdown",
   "id": "0c87fcf3",
   "metadata": {},
   "source": [
    "## Interacting with the Model Registry"
   ]
  },
  {
   "cell_type": "code",
   "execution_count": 8,
   "id": "ea6b3e39",
   "metadata": {},
   "outputs": [],
   "source": [
    "from mlflow.tracking import MlflowClient\n",
    "client = MlflowClient(\"http://127.0.0.1:5000\")"
   ]
  },
  {
   "cell_type": "code",
   "execution_count": 9,
   "id": "28583d96",
   "metadata": {},
   "outputs": [
    {
     "data": {
      "text/plain": [
       "[]"
      ]
     },
     "execution_count": 9,
     "metadata": {},
     "output_type": "execute_result"
    }
   ],
   "source": [
    "# There are currently no registered models\n",
    "client.search_registered_models()"
   ]
  },
  {
   "cell_type": "code",
   "execution_count": 10,
   "id": "f3d86124",
   "metadata": {},
   "outputs": [
    {
     "name": "stderr",
     "output_type": "stream",
     "text": [
      "Successfully registered model 'iris-classifier'.\n",
      "2025/05/23 21:37:28 INFO mlflow.store.model_registry.abstract_store: Waiting up to 300 seconds for model version to finish creation. Model name: iris-classifier, version 1\n",
      "Created version '1' of model 'iris-classifier'.\n"
     ]
    },
    {
     "data": {
      "text/plain": [
       "<ModelVersion: aliases=[], creation_timestamp=1748029048741, current_stage='None', description='', last_updated_timestamp=1748029048741, name='iris-classifier', run_id='14198976ee8c4b6c8e04ba6fc7d1c8ce', run_link='', source='/home/user/GITs/Zoomcamps/MLOps/mlops-material/2-Experiment-Tracking/artifacts_local/1/14198976ee8c4b6c8e04ba6fc7d1c8ce/artifacts/models', status='READY', status_message=None, tags={}, user_id='', version='1'>"
      ]
     },
     "execution_count": 10,
     "metadata": {},
     "output_type": "execute_result"
    }
   ],
   "source": [
    "# Register a model\n",
    "run_id = client.search_runs(experiment_ids=\"1\")[0].info.run_id\n",
    "mlflow.register_model(\n",
    "    model_uri=f\"runs:/{run_id}/models\", \n",
    "    name=\"iris-classifier\"\n",
    ")"
   ]
  },
  {
   "attachments": {},
   "cell_type": "markdown",
   "id": "6a303113",
   "metadata": {},
   "source": [
    "Now look into the MLflow model registry. The model will be there."
   ]
  },
  {
   "cell_type": "code",
   "execution_count": 13,
   "id": "e2c932d8",
   "metadata": {},
   "outputs": [
    {
     "data": {
      "text/plain": [
       "[<RegisteredModel: aliases={}, creation_timestamp=1748029048682, description='', last_updated_timestamp=1748029048741, latest_versions=[<ModelVersion: aliases=[], creation_timestamp=1748029048741, current_stage='None', description='', last_updated_timestamp=1748029048741, name='iris-classifier', run_id='14198976ee8c4b6c8e04ba6fc7d1c8ce', run_link='', source='/home/user/GITs/Zoomcamps/MLOps/mlops-material/2-Experiment-Tracking/artifacts_local/1/14198976ee8c4b6c8e04ba6fc7d1c8ce/artifacts/models', status='READY', status_message=None, tags={}, user_id='', version='1'>], name='iris-classifier', tags={}>]"
      ]
     },
     "execution_count": 13,
     "metadata": {},
     "output_type": "execute_result"
    }
   ],
   "source": [
    "client.search_registered_models()"
   ]
  }
 ],
 "metadata": {
  "kernelspec": {
   "display_name": "experiment-tracking-env",
   "language": "python",
   "name": "python3"
  },
  "language_info": {
   "codemirror_mode": {
    "name": "ipython",
    "version": 3
   },
   "file_extension": ".py",
   "mimetype": "text/x-python",
   "name": "python",
   "nbconvert_exporter": "python",
   "pygments_lexer": "ipython3",
   "version": "3.9.22"
  }
 },
 "nbformat": 4,
 "nbformat_minor": 5
}
