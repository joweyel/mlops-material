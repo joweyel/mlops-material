{
 "cells": [
  {
   "attachments": {},
   "cell_type": "markdown",
   "id": "4d91d4ac",
   "metadata": {},
   "source": [
    "# Scenario 3: Multiple data scientists working on multiple ML models"
   ]
  },
  {
   "attachments": {},
   "cell_type": "markdown",
   "id": "d14bc1c3",
   "metadata": {},
   "source": [
    "MLflow setup:\n",
    "| **`Tracking server`**   | yes, remote server (EC2) |\n",
    "| :---------------------: | :--------------: | \n",
    "| **`Backend store`**     | postgresql database  |\n",
    "| **`Artifact store`**    | s3 bucket |"
   ]
  },
  {
   "attachments": {},
   "cell_type": "markdown",
   "id": "d2a944a5",
   "metadata": {},
   "source": [
    "The experiment can be explored by accessing the remote server."
   ]
  },
  {
   "attachments": {},
   "cell_type": "markdown",
   "id": "11f43d60",
   "metadata": {},
   "source": [
    "The example uses AES to host a remote server. In order to run the example you'll need an AWS account. Foow the steps in the file [`mlflow_on_aws.md`](https://github.com/joweyel/mlops-zoomcamp/blob/main/02-experiment-tracking/mlflow_on_aws.md) to create a new AWS account and launch the tracking server."
   ]
  },
  {
   "cell_type": "code",
   "execution_count": null,
   "id": "ca59b793",
   "metadata": {},
   "outputs": [],
   "source": [
    "import os\n",
    "import mlflow\n",
    "\n",
    "# os.environ[\"AWS_PROFILE\"] = \"\" # fill in with your AWS profile. More info: https://docs.aws.amazon.com/\n",
    "\n",
    "TRACKING_SERVER_HOST = \"<public-ec2-ip>.compute-1.amazonaws.com\" # fill in with the public DNS of the EC2 instance\n",
    "mlflow.set_tracking_uri(f\"http://{TRACKING_SERVER_HOST}:5000\")"
   ]
  },
  {
   "attachments": {},
   "cell_type": "markdown",
   "id": "85205033",
   "metadata": {},
   "source": [
    "## Now after everything is set up, the fun begins!"
   ]
  },
  {
   "cell_type": "code",
   "execution_count": null,
   "id": "04c6b5b1",
   "metadata": {},
   "outputs": [],
   "source": [
    "print(f\"Tracking-URI: '{mlflow.get_tracking_uri()}'\")"
   ]
  },
  {
   "cell_type": "code",
   "execution_count": null,
   "id": "fd69d43b",
   "metadata": {},
   "outputs": [],
   "source": [
    "# Should only show the default experiment, if you just set up you MLflow AWS thingie!\n",
    "mlflow.search_experiments()"
   ]
  },
  {
   "cell_type": "code",
   "execution_count": null,
   "id": "f986b144",
   "metadata": {},
   "outputs": [],
   "source": [
    "from sklearn.linear_model import LogisticRegression\n",
    "from sklearn.datasets import load_iris\n",
    "from sklearn.metrics import accuracy_score\n",
    "\n",
    "mlflow.set_experiment(\"my-experiment-1-aws\")\n",
    "\n",
    "with mlflow.start_run():\n",
    "    X, y = load_iris(return_X_y=True)\n",
    "    params = { \"C\": 0.1, \"random_state\": 42 }\n",
    "    mlflow.log_params(params)\n",
    "\n",
    "    lr = LogisticRegression(**params).fit(X, y)\n",
    "    y_pred = lr.predict(X)\n",
    "    mlflow.log_metric(\"accuracy\", accuracy_score(y, y_pred))\n",
    "\n",
    "    mlflow.sklearn.log_model(lr, artifact_path=\"models\")\n",
    "    print(f\"default artifacts URI: '{mlflow.get_artifact_uri()}'\")"
   ]
  },
  {
   "cell_type": "code",
   "execution_count": null,
   "id": "edec9948",
   "metadata": {},
   "outputs": [],
   "source": [
    "# There should now be 2 experiment-runs\n",
    "mlflow.search_experiments() "
   ]
  },
  {
   "attachments": {},
   "cell_type": "markdown",
   "id": "e42fec4b",
   "metadata": {},
   "source": [
    "## Interacting with the Model Registry"
   ]
  },
  {
   "attachments": {},
   "cell_type": "markdown",
   "id": "e9e69c3a",
   "metadata": {},
   "source": [
    "Same as with Scenario 2, but with AWS. Should be easy."
   ]
  },
  {
   "cell_type": "code",
   "execution_count": null,
   "id": "af0dd693",
   "metadata": {},
   "outputs": [],
   "source": [
    "from mlflow.tracking import MlflowClient\n",
    "\n",
    "client = MlflowClient(f\"http://{TRACKING_SERVER_HOST}:5000\")"
   ]
  },
  {
   "cell_type": "code",
   "execution_count": null,
   "id": "2eb40da5",
   "metadata": {},
   "outputs": [],
   "source": [
    "# There are no registered models\n",
    "client.search_registered_models()"
   ]
  },
  {
   "cell_type": "code",
   "execution_count": null,
   "id": "811d5e7a",
   "metadata": {},
   "outputs": [],
   "source": [
    "# Register a model\n",
    "run_id = client.search_runs(experiment_ids=\"1\")[0].info.run_id\n",
    "mlflow.register_model(\n",
    "    model_uri=f\"runs:/{run_id}/models\", \n",
    "    name=\"iris-classifier\"\n",
    ")"
   ]
  }
 ],
 "metadata": {
  "kernelspec": {
   "display_name": "exp-tracking-env",
   "language": "python",
   "name": "python3"
  },
  "language_info": {
   "codemirror_mode": {
    "name": "ipython",
    "version": 3
   },
   "file_extension": ".py",
   "mimetype": "text/x-python",
   "name": "python",
   "nbconvert_exporter": "python",
   "pygments_lexer": "ipython3",
   "version": "3.9.16"
  }
 },
 "nbformat": 4,
 "nbformat_minor": 5
}
