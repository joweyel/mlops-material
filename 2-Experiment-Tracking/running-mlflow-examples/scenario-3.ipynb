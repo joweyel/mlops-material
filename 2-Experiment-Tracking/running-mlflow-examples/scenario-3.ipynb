{
 "cells": [
  {
   "attachments": {},
   "cell_type": "markdown",
   "id": "4d91d4ac",
   "metadata": {},
   "source": [
    "# Scenario 3: Multiple data scientists working on multiple ML models"
   ]
  },
  {
   "attachments": {},
   "cell_type": "markdown",
   "id": "d14bc1c3",
   "metadata": {},
   "source": [
    "MLflow setup:\n",
    "| **`Tracking server`**   | yes, remote server (EC2) |\n",
    "| :---------------------: | :--------------: | \n",
    "| **`Backend store`**     | postgresql database  |\n",
    "| **`Artifact store`**    | s3 bucket |"
   ]
  },
  {
   "attachments": {},
   "cell_type": "markdown",
   "id": "d2a944a5",
   "metadata": {},
   "source": [
    "The experiment can be explored by accessing the remote server."
   ]
  },
  {
   "attachments": {},
   "cell_type": "markdown",
   "id": "11f43d60",
   "metadata": {},
   "source": [
    "The example uses AES to host a remote server. In order to run the example you'll need an AWS account. Foow the steps in the file [`mlflow_on_aws.md`](https://github.com/joweyel/mlops-zoomcamp/blob/main/02-experiment-tracking/mlflow_on_aws.md) to create a new AWS account and launch the tracking server."
   ]
  },
  {
   "cell_type": "code",
   "execution_count": null,
   "id": "ca59b793",
   "metadata": {},
   "outputs": [],
   "source": [
    "import os\n",
    "import mlflow\n",
    "\n",
    "os.environ[\"AWS_PROFILE\"] = \"\" # fill in with your AWS profile. More info: https://docs.aws.amazon.com/\n",
    "\n",
    "TRACKING_SERVER_HOST = \"\" # fill in with the public DNS of the EC2 instance\n",
    "mlflow.set_tracking_uri(f\"http://{TRACKING_SERVER_HOST}:5000\")"
   ]
  },
  {
   "attachments": {},
   "cell_type": "markdown",
   "id": "85205033",
   "metadata": {},
   "source": [
    "## TODO (on AWS)"
   ]
  },
  {
   "attachments": {},
   "cell_type": "markdown",
   "id": "fd69d43b",
   "metadata": {},
   "source": []
  }
 ],
 "metadata": {
  "kernelspec": {
   "display_name": "exp-tracking-env",
   "language": "python",
   "name": "python3"
  },
  "language_info": {
   "codemirror_mode": {
    "name": "ipython",
    "version": 3
   },
   "file_extension": ".py",
   "mimetype": "text/x-python",
   "name": "python",
   "nbconvert_exporter": "python",
   "pygments_lexer": "ipython3",
   "version": "3.9.16"
  }
 },
 "nbformat": 4,
 "nbformat_minor": 5
}
