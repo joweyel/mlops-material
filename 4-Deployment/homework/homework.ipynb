{
 "cells": [
  {
   "cell_type": "code",
   "execution_count": 1,
   "id": "2c51efaa",
   "metadata": {},
   "outputs": [
    {
     "name": "stdout",
     "output_type": "stream",
     "text": [
      "scikit-learn==1.5.0\n"
     ]
    }
   ],
   "source": [
    "!pip freeze | grep scikit-learn"
   ]
  },
  {
   "cell_type": "code",
   "execution_count": 2,
   "id": "4acf73a0-51b5-4663-9bb8-8eb947863e17",
   "metadata": {},
   "outputs": [
    {
     "name": "stdout",
     "output_type": "stream",
     "text": [
      "Python 3.9.19\n"
     ]
    }
   ],
   "source": [
    "!python -V"
   ]
  },
  {
   "cell_type": "code",
   "execution_count": 3,
   "id": "0ef880a0",
   "metadata": {},
   "outputs": [],
   "source": [
    "import os\n",
    "import pickle\n",
    "import pandas as pd"
   ]
  },
  {
   "cell_type": "code",
   "execution_count": 4,
   "id": "7836ccfd",
   "metadata": {},
   "outputs": [],
   "source": [
    "with open(\"model.bin\", \"rb\") as f_in:\n",
    "    dv, model = pickle.load(f_in)"
   ]
  },
  {
   "cell_type": "code",
   "execution_count": 5,
   "id": "41c08294",
   "metadata": {},
   "outputs": [],
   "source": [
    "categorical = [\"PULocationID\", \"DOLocationID\"]\n",
    "\n",
    "def read_data(filename):\n",
    "    df = pd.read_parquet(filename)\n",
    "    \n",
    "    df[\"duration\"] = df.tpep_dropoff_datetime - df.tpep_pickup_datetime\n",
    "    df[\"duration\"] = df.duration.dt.total_seconds() / 60\n",
    "\n",
    "    df = df[(df.duration >= 1) & (df.duration <= 60)].copy()\n",
    "\n",
    "    df[categorical] = df[categorical].fillna(-1).astype(\"int\").astype(\"str\")\n",
    "    \n",
    "    return df"
   ]
  },
  {
   "cell_type": "code",
   "execution_count": 6,
   "id": "d28e0a72",
   "metadata": {},
   "outputs": [],
   "source": [
    "year = 2023\n",
    "month = 3\n",
    "taxi_type = \"yellow\"\n",
    "input_file = f\"https://d37ci6vzurychx.cloudfront.net/trip-data/{taxi_type}_tripdata_{year:04d}-{month:02d}.parquet\"\n",
    "output_file = f\"output/{taxi_type}/{taxi_type}_tripdata_{year:04d}-{month:02d}.parquet\"\n",
    "os.makedirs(os.path.split(output_file)[0], exist_ok=True)"
   ]
  },
  {
   "cell_type": "code",
   "execution_count": 7,
   "id": "4854399a",
   "metadata": {},
   "outputs": [],
   "source": [
    "df = read_data(input_file)"
   ]
  },
  {
   "cell_type": "code",
   "execution_count": 8,
   "id": "669fda0a",
   "metadata": {},
   "outputs": [],
   "source": [
    "dicts = df[categorical].to_dict(orient='records')\n",
    "X_val = dv.transform(dicts)\n",
    "y_pred = model.predict(X_val)"
   ]
  },
  {
   "cell_type": "markdown",
   "id": "bf532ae7-1897-428c-ba0c-875ccaf7d76c",
   "metadata": {},
   "source": [
    "## Q1. Notebook"
   ]
  },
  {
   "cell_type": "markdown",
   "id": "35117532",
   "metadata": {},
   "source": [
    "Run this notebook for the March 2023 data.\n",
    "\n",
    "What's the standard deviation of the predicted duration for this dataset?\n"
   ]
  },
  {
   "cell_type": "code",
   "execution_count": 9,
   "id": "dd7a1576",
   "metadata": {},
   "outputs": [
    {
     "name": "stdout",
     "output_type": "stream",
     "text": [
      "std: 6.25\n"
     ]
    }
   ],
   "source": [
    "print(f\"std: {y_pred.std():.2f}\")"
   ]
  },
  {
   "cell_type": "markdown",
   "id": "77a6f437",
   "metadata": {},
   "source": [
    "**Solution:** `6.24`"
   ]
  },
  {
   "cell_type": "markdown",
   "id": "76cf6852",
   "metadata": {},
   "source": [
    "## Q2. Preparing the output"
   ]
  },
  {
   "cell_type": "code",
   "execution_count": 10,
   "id": "391911ca",
   "metadata": {},
   "outputs": [],
   "source": [
    "# Creating an artificial `ride_id` column\n",
    "df[\"ride_id\"] = f\"{year:04d}/{month:02d}_\" + df.index.astype(\"str\")"
   ]
  },
  {
   "cell_type": "code",
   "execution_count": 11,
   "id": "94fac392",
   "metadata": {},
   "outputs": [
    {
     "data": {
      "text/plain": [
       "Index(['VendorID', 'tpep_pickup_datetime', 'tpep_dropoff_datetime',\n",
       "       'passenger_count', 'trip_distance', 'RatecodeID', 'store_and_fwd_flag',\n",
       "       'PULocationID', 'DOLocationID', 'payment_type', 'fare_amount', 'extra',\n",
       "       'mta_tax', 'tip_amount', 'tolls_amount', 'improvement_surcharge',\n",
       "       'total_amount', 'congestion_surcharge', 'Airport_fee', 'duration',\n",
       "       'ride_id'],\n",
       "      dtype='object')"
      ]
     },
     "execution_count": 11,
     "metadata": {},
     "output_type": "execute_result"
    }
   ],
   "source": [
    "df.columns"
   ]
  },
  {
   "cell_type": "code",
   "execution_count": 12,
   "id": "c7838dca",
   "metadata": {},
   "outputs": [],
   "source": [
    "df_result = pd.DataFrame()\n",
    "df_result[\"predicted_duration\"] = y_pred\n",
    "df_result[\"ride_id\"] = df[\"ride_id\"]"
   ]
  },
  {
   "cell_type": "code",
   "execution_count": 13,
   "id": "6ce7665a",
   "metadata": {},
   "outputs": [
    {
     "name": "stdout",
     "output_type": "stream",
     "text": [
      "Saved: output/yellow/yellow_tripdata_2023-03.parquet\n"
     ]
    }
   ],
   "source": [
    "# Writing the ride id and the predictions to a dataframe with results\n",
    "df_result.to_parquet(\n",
    "    output_file,\n",
    "    engine=\"pyarrow\",\n",
    "    compression=None,\n",
    "    index=False\n",
    ")\n",
    "print(f\"Saved: {output_file}\")"
   ]
  },
  {
   "cell_type": "code",
   "execution_count": 14,
   "id": "586f7de9",
   "metadata": {},
   "outputs": [
    {
     "name": "stdout",
     "output_type": "stream",
     "text": [
      "65M\toutput/yellow/yellow_tripdata_2023-03.parquet\n"
     ]
    }
   ],
   "source": [
    "!du -sh $output_file"
   ]
  },
  {
   "cell_type": "markdown",
   "id": "a5e9e4ed",
   "metadata": {},
   "source": [
    "**Solution**: `66M`"
   ]
  },
  {
   "cell_type": "markdown",
   "id": "2c1d3712",
   "metadata": {},
   "source": [
    "## Q3. Creating the scoring script"
   ]
  },
  {
   "cell_type": "markdown",
   "id": "cccf9bf2",
   "metadata": {},
   "source": [
    "Which command is needed to extract the jupyter notebook as script?"
   ]
  },
  {
   "cell_type": "markdown",
   "id": "f332238f",
   "metadata": {},
   "source": [
    "**Solution:** `jupyter nbconvert --to script homework.ipynb`"
   ]
  },
  {
   "cell_type": "markdown",
   "id": "11617f64",
   "metadata": {},
   "source": [
    "## Q4. Virtual environment"
   ]
  },
  {
   "cell_type": "markdown",
   "id": "adf4f9c8",
   "metadata": {},
   "source": [
    "Now let's put everything into a virtual environment. We'll use pipenv for that.\n",
    "\n",
    "Install all the required libraries. Pay attention to the Scikit-Learn version: it should be the same as in the starter notebook.\n",
    "\n",
    "After installing the libraries, pipenv creates two files: `Pipfile`\n",
    "and `Pipfile.lock`. The `Pipfile.lock` file keeps the hashes of the\n",
    "dependencies we use for the virtual env.\n",
    "\n",
    "What's the first hash for the Scikit-Learn dependency?\n"
   ]
  },
  {
   "cell_type": "markdown",
   "id": "a24e5b01",
   "metadata": {},
   "source": [
    "Creating the required Pipenv:\n",
    "```bash\n",
    "pipenv install scikit-learn==1.5.0 pandas pyarrow\n",
    "```"
   ]
  },
  {
   "cell_type": "markdown",
   "id": "29c04ea8",
   "metadata": {},
   "source": [
    "**Solution:** `057b991ac64b3e75c9c04b5f9395eaf19a6179244c089afdebaad98264bff37c`"
   ]
  },
  {
   "cell_type": "markdown",
   "id": "50580d9d",
   "metadata": {},
   "source": [
    "## Q5. Parametrize the script"
   ]
  },
  {
   "cell_type": "markdown",
   "id": "e4536cff",
   "metadata": {},
   "source": [
    "\n",
    "Let's now make the script configurable via CLI. We'll create two \n",
    "parameters: year and month.\n",
    "\n",
    "Run the script for April 2023. \n",
    "\n",
    "What's the mean predicted duration? \n",
    "\n",
    "* 7.29\n",
    "* 14.29\n",
    "* 21.29\n",
    "* 28.29\n",
    "\n",
    "Hint: just add a print statement to your script."
   ]
  },
  {
   "cell_type": "markdown",
   "id": "390b95b1",
   "metadata": {},
   "source": [
    "**Solution:** `14.29`"
   ]
  },
  {
   "cell_type": "markdown",
   "id": "907eb328",
   "metadata": {},
   "source": [
    "The code can be found here: [homework.py](homework.py). To get the result above the following command was used:\n",
    "```bash\n",
    "py homework.py --year 2023 --month 4 --model model.bin --taxi_type yellow\n",
    "```"
   ]
  },
  {
   "cell_type": "markdown",
   "id": "35d9370a",
   "metadata": {},
   "source": [
    "## Q6. Docker container \n"
   ]
  },
  {
   "cell_type": "markdown",
   "id": "2e3f664f",
   "metadata": {},
   "source": [
    "Finally, we'll package the script in the docker container. \n",
    "For that, you'll need to use a base image that we prepared. \n",
    "\n",
    "This is what the content of this image is:\n",
    "\n",
    "```dockerfile\n",
    "FROM python:3.10.13-slim\n",
    "\n",
    "WORKDIR /app\n",
    "COPY [ \"model2.bin\", \"model.bin\" ]\n",
    "```\n",
    "*Note*: you don't need to run it. We have already done it.\n",
    "\n",
    "It is pushed to [`agrigorev/zoomcamp-model:mlops-2024-3.10.13-slim`](https://hub.docker.com/layers/agrigorev/zoomcamp-model/mlops-2024-3.10.13-slim/images/sha256-f54535b73a8c3ef91967d5588de57d4e251b22addcbbfb6e71304a91c1c7027f?context=repo),\n",
    "which you need to use as your base image."
   ]
  },
  {
   "cell_type": "markdown",
   "id": "9d07155a",
   "metadata": {},
   "source": [
    "**Solution:** `0.19`"
   ]
  },
  {
   "cell_type": "markdown",
   "id": "fbd09b7d",
   "metadata": {},
   "source": [
    "Relevant files:\n",
    "- [Dockerfile](Dockerfile)"
   ]
  },
  {
   "cell_type": "markdown",
   "id": "5e387925",
   "metadata": {},
   "source": [
    "Building the container\n",
    "```bash\n",
    "docker build -t hw4-deployment .\n",
    "```\n",
    "\n",
    "Running the model\n",
    "```bash\n",
    "docker run -it --rm hw4-deployment --year 2023 --month 5 --model model.bin --taxi_type yellow\n",
    "```"
   ]
  }
 ],
 "metadata": {
  "kernelspec": {
   "display_name": "Python 3 (ipykernel)",
   "language": "python",
   "name": "python3"
  },
  "language_info": {
   "codemirror_mode": {
    "name": "ipython",
    "version": 3
   },
   "file_extension": ".py",
   "mimetype": "text/x-python",
   "name": "python",
   "nbconvert_exporter": "python",
   "pygments_lexer": "ipython3",
   "version": "3.9.19"
  }
 },
 "nbformat": 4,
 "nbformat_minor": 5
}
