{
 "cells": [
  {
   "cell_type": "code",
   "execution_count": 1,
   "metadata": {},
   "outputs": [],
   "source": [
    "import pickle\n",
    "import pandas as pd\n",
    "\n",
    "from sklearn.feature_extraction import DictVectorizer\n",
    "from sklearn.ensemble import RandomForestRegressor\n",
    "from sklearn.metrics import mean_squared_error as MSE"
   ]
  },
  {
   "cell_type": "code",
   "execution_count": 2,
   "metadata": {},
   "outputs": [
    {
     "data": {
      "text/plain": [
       "<Experiment: artifact_location='s3://mlflow-artifacts-remote-jw/1', creation_time=1687606206921, experiment_id='1', last_update_time=1687606206921, lifecycle_stage='active', name='green-taxi-duration', tags={}>"
      ]
     },
     "execution_count": 2,
     "metadata": {},
     "output_type": "execute_result"
    }
   ],
   "source": [
    "import mlflow\n",
    "\n",
    "mlflow.set_tracking_uri(\"http://127.0.0.1:5000\")\n",
    "mlflow.set_experiment(\"green-taxi-duration\")"
   ]
  },
  {
   "cell_type": "code",
   "execution_count": 3,
   "metadata": {},
   "outputs": [],
   "source": [
    "def read_dataframe(filename: str):\n",
    "    df = pd.read_parquet(filename)\n",
    "\n",
    "    df[\"duration\"] = df[\"lpep_dropoff_datetime\"] - df[\"lpep_pickup_datetime\"]\n",
    "    df[\"duration\"] = df[\"duration\"].dt.total_seconds()\n",
    "\n",
    "    df = df[(df[\"duration\"] >= 1) & (df[\"duration\"] <= 60)]\n",
    "\n",
    "    categorical = [\"PULocationID\", \"DOLocationID\"]\n",
    "    df[categorical] = df[categorical].astype(str)\n",
    "\n",
    "    return df\n",
    "\n",
    "def prepare_dictionaries(df: pd.DataFrame):\n",
    "    df[\"PU_DO\"] = df[\"PULocationID\"] + \"_\" + df[\"DOLocationID\"]\n",
    "    categorical = [\"PU_DO\"]\n",
    "    numerical = [\"trip_distance\"]\n",
    "    dicts = df[categorical + numerical].to_dict(orient=\"records\")\n",
    "    return dicts"
   ]
  },
  {
   "cell_type": "code",
   "execution_count": 4,
   "metadata": {},
   "outputs": [],
   "source": [
    "df_train = read_dataframe(\"data/green_tripdata_2021-01.parquet\")\n",
    "df_val = read_dataframe(\"data/green_tripdata_2021-02.parquet\")\n",
    "\n",
    "target = \"duration\"\n",
    "y_train = df_train[target]\n",
    "y_val = df_val[target]\n",
    "\n",
    "dict_train = prepare_dictionaries(df_train)\n",
    "dict_val = prepare_dictionaries(df_val)"
   ]
  },
  {
   "cell_type": "code",
   "execution_count": 6,
   "metadata": {
    "scrolled": true
   },
   "outputs": [
    {
     "name": "stdout",
     "output_type": "stream",
     "text": [
      "{'max_depth': 20, 'n_estimators': 100, 'min_samples_leaf': 10, 'random_state': 0} 16.53467808612593\n"
     ]
    }
   ],
   "source": [
    "# Important: AWS credentials have to be set e.g. with aws configure\n",
    "\n",
    "with mlflow.start_run():\n",
    "    params = dict(max_depth=20, n_estimators=100, min_samples_leaf=10, random_state=0)\n",
    "    mlflow.log_params(params)\n",
    "    \n",
    "    dv = DictVectorizer()\n",
    "    model = RandomForestRegressor(**params, n_jobs=-1)\n",
    "    \n",
    "    X_train = dv.fit_transform(dict_train)\n",
    "    model.fit(X_train, y_train)\n",
    "    \n",
    "    X_val = dv.transform(dict_val)\n",
    "    y_pred = model.predict(X_val)\n",
    "    \n",
    "    rmse = MSE(y_pred, y_val, squared=False)\n",
    "    print(params, rmse)\n",
    "    mlflow.log_metric(\"rmse\", rmse)\n",
    "    \n",
    "    mlflow.sklearn.log_model(model, artifact_path=\"model\")\n",
    "    \n",
    "    with open(\"dict_vectorizer.bin\", \"wb\") as f_out:\n",
    "        pickle.dump(dv, f_out)\n",
    "    \n",
    "    mlflow.log_artifact(\"dict_vectorizer.bin\")"
   ]
  }
 ],
 "metadata": {
  "kernelspec": {
   "display_name": "exp-tracking-env",
   "language": "python",
   "name": "exp-tracking-env"
  },
  "language_info": {
   "codemirror_mode": {
    "name": "ipython",
    "version": 3
   },
   "file_extension": ".py",
   "mimetype": "text/x-python",
   "name": "python",
   "nbconvert_exporter": "python",
   "pygments_lexer": "ipython3",
   "version": "3.9.16"
  }
 },
 "nbformat": 4,
 "nbformat_minor": 2
}
